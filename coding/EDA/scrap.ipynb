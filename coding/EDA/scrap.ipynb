{
 "cells": [
  {
   "cell_type": "code",
   "execution_count": 1,
   "metadata": {},
   "outputs": [],
   "source": [
    "import pandas as pd"
   ]
  },
  {
   "cell_type": "code",
   "execution_count": 12,
   "metadata": {},
   "outputs": [],
   "source": [
    "df = pd.read_csv('sensordata/home47_hall654_sensor1216c1220_electric-mains_electric-combined.csv.gz', compression='gzip', index_col=0, parse_dates=True, names = ['date', 'mains_electric'])"
   ]
  },
  {
   "cell_type": "code",
   "execution_count": 1,
   "metadata": {},
   "outputs": [],
   "source": [
    "import os\n"
   ]
  },
  {
   "cell_type": "code",
   "execution_count": 9,
   "metadata": {},
   "outputs": [],
   "source": [
    "done_list = []"
   ]
  },
  {
   "cell_type": "code",
   "execution_count": 10,
   "metadata": {},
   "outputs": [],
   "source": [
    "\n",
    "directory = '/Users/barry/CodeAcademy/Ideal_dataset/updated_hourly_csv'\n",
    "\n",
    "for filename in os.listdir(directory):\n",
    "    if filename[-4:] == '.csv':\n",
    "        done_list.append(int(filename[7:-4]))"
   ]
  },
  {
   "cell_type": "code",
   "execution_count": 11,
   "metadata": {},
   "outputs": [
    {
     "name": "stdout",
     "output_type": "stream",
     "text": [
      "[209, 221, 157, 143, 194, 180, 181, 195, 156, 208, 222, 168, 140, 154, 183, 197, 182, 155, 141, 169, 227, 145, 151, 179, 186, 192, 193, 187, 178, 150, 144, 218, 152, 146, 191, 185, 184, 190, 147, 153, 219, 231, 225, 242, 75, 61, 134, 120, 121, 135, 109, 74, 255, 89, 62, 76, 123, 137, 136, 122, 77, 63, 88, 268, 98, 67, 73, 126, 133, 72, 66, 99, 70, 64, 125, 119, 118, 124, 59, 65, 71, 263, 97, 83, 68, 129, 115, 101, 100, 114, 128, 69, 82, 96, 276, 262, 328, 80, 94, 102, 116, 117, 81, 249, 259, 85, 91, 311, 107, 113, 106, 47, 90, 84, 264, 266, 92, 86, 79, 110, 138, 139, 105, 78, 93, 228, 200, 214, 176, 162, 189, 188, 163, 177, 215, 201, 203, 149, 161, 175, 174, 160, 148, 202, 216, 212, 206, 164, 170, 158, 159, 171, 165, 207, 213, 205, 211, 173, 167, 199, 166, 238, 210]\n"
     ]
    }
   ],
   "source": [
    "print(done_list)"
   ]
  },
  {
   "cell_type": "code",
   "execution_count": 1,
   "metadata": {},
   "outputs": [],
   "source": [
    "listylist = [61,\n",
    " 62,\n",
    " 63,\n",
    " 65,\n",
    " 73,\n",
    " 90,\n",
    " 96,\n",
    " 106,\n",
    " 105,\n",
    " 136,\n",
    " 128,\n",
    " 139,\n",
    " 140,\n",
    " 145,\n",
    " 146,\n",
    " 168,\n",
    " 169,\n",
    " 171,\n",
    " 162,\n",
    " 175,\n",
    " 208,\n",
    " 212,\n",
    " 225,\n",
    " 228,\n",
    " 227,\n",
    " 231,\n",
    " 238,\n",
    " 242,\n",
    " 249,\n",
    " 255,\n",
    " 262,\n",
    " 264,\n",
    " 263,\n",
    " 266,\n",
    " 268,\n",
    " 259,\n",
    " 276,\n",
    " 311,\n",
    " 328]"
   ]
  },
  {
   "cell_type": "code",
   "execution_count": 3,
   "metadata": {},
   "outputs": [],
   "source": [
    "listylist = [str(i) for i in listylist]"
   ]
  },
  {
   "cell_type": "code",
   "execution_count": 4,
   "metadata": {},
   "outputs": [
    {
     "name": "stdout",
     "output_type": "stream",
     "text": [
      "['61', '62', '63', '65', '73', '90', '96', '106', '105', '136', '128', '139', '140', '145', '146', '168', '169', '171', '162', '175', '208', '212', '225', '228', '227', '231', '238', '242', '249', '255', '262', '264', '263', '266', '268', '259', '276', '311', '328']\n"
     ]
    }
   ],
   "source": [
    "print(listylist)"
   ]
  },
  {
   "cell_type": "code",
   "execution_count": 14,
   "metadata": {},
   "outputs": [
    {
     "data": {
      "text/html": [
       "<div>\n",
       "<style scoped>\n",
       "    .dataframe tbody tr th:only-of-type {\n",
       "        vertical-align: middle;\n",
       "    }\n",
       "\n",
       "    .dataframe tbody tr th {\n",
       "        vertical-align: top;\n",
       "    }\n",
       "\n",
       "    .dataframe thead th {\n",
       "        text-align: right;\n",
       "    }\n",
       "</style>\n",
       "<table border=\"1\" class=\"dataframe\">\n",
       "  <thead>\n",
       "    <tr style=\"text-align: right;\">\n",
       "      <th></th>\n",
       "      <th>mains_electric</th>\n",
       "    </tr>\n",
       "    <tr>\n",
       "      <th>date</th>\n",
       "      <th></th>\n",
       "    </tr>\n",
       "  </thead>\n",
       "  <tbody>\n",
       "    <tr>\n",
       "      <th>2016-08-10 10:15:27</th>\n",
       "      <td>0</td>\n",
       "    </tr>\n",
       "    <tr>\n",
       "      <th>2016-08-10 10:15:28</th>\n",
       "      <td>269</td>\n",
       "    </tr>\n",
       "    <tr>\n",
       "      <th>2016-08-10 10:15:33</th>\n",
       "      <td>108</td>\n",
       "    </tr>\n",
       "    <tr>\n",
       "      <th>2016-08-10 10:15:34</th>\n",
       "      <td>274</td>\n",
       "    </tr>\n",
       "    <tr>\n",
       "      <th>2016-08-10 10:15:35</th>\n",
       "      <td>272</td>\n",
       "    </tr>\n",
       "  </tbody>\n",
       "</table>\n",
       "</div>"
      ],
      "text/plain": [
       "                     mains_electric\n",
       "date                               \n",
       "2016-08-10 10:15:27               0\n",
       "2016-08-10 10:15:28             269\n",
       "2016-08-10 10:15:33             108\n",
       "2016-08-10 10:15:34             274\n",
       "2016-08-10 10:15:35             272"
      ]
     },
     "metadata": {},
     "output_type": "display_data"
    },
    {
     "data": {
      "text/plain": [
       "Index(['mains_electric'], dtype='object')"
      ]
     },
     "metadata": {},
     "output_type": "display_data"
    }
   ],
   "source": [
    "display(df.head())\n",
    "display(df.colum)"
   ]
  },
  {
   "cell_type": "code",
   "execution_count": 15,
   "metadata": {},
   "outputs": [],
   "source": [
    "df= df.reset_index()"
   ]
  },
  {
   "cell_type": "code",
   "execution_count": 16,
   "metadata": {},
   "outputs": [
    {
     "data": {
      "text/html": [
       "<div>\n",
       "<style scoped>\n",
       "    .dataframe tbody tr th:only-of-type {\n",
       "        vertical-align: middle;\n",
       "    }\n",
       "\n",
       "    .dataframe tbody tr th {\n",
       "        vertical-align: top;\n",
       "    }\n",
       "\n",
       "    .dataframe thead th {\n",
       "        text-align: right;\n",
       "    }\n",
       "</style>\n",
       "<table border=\"1\" class=\"dataframe\">\n",
       "  <thead>\n",
       "    <tr style=\"text-align: right;\">\n",
       "      <th></th>\n",
       "      <th>date</th>\n",
       "      <th>mains_electric</th>\n",
       "    </tr>\n",
       "  </thead>\n",
       "  <tbody>\n",
       "    <tr>\n",
       "      <th>0</th>\n",
       "      <td>2016-08-10 10:15:27</td>\n",
       "      <td>0</td>\n",
       "    </tr>\n",
       "    <tr>\n",
       "      <th>1</th>\n",
       "      <td>2016-08-10 10:15:28</td>\n",
       "      <td>269</td>\n",
       "    </tr>\n",
       "    <tr>\n",
       "      <th>2</th>\n",
       "      <td>2016-08-10 10:15:33</td>\n",
       "      <td>108</td>\n",
       "    </tr>\n",
       "    <tr>\n",
       "      <th>3</th>\n",
       "      <td>2016-08-10 10:15:34</td>\n",
       "      <td>274</td>\n",
       "    </tr>\n",
       "    <tr>\n",
       "      <th>4</th>\n",
       "      <td>2016-08-10 10:15:35</td>\n",
       "      <td>272</td>\n",
       "    </tr>\n",
       "  </tbody>\n",
       "</table>\n",
       "</div>"
      ],
      "text/plain": [
       "                 date  mains_electric\n",
       "0 2016-08-10 10:15:27               0\n",
       "1 2016-08-10 10:15:28             269\n",
       "2 2016-08-10 10:15:33             108\n",
       "3 2016-08-10 10:15:34             274\n",
       "4 2016-08-10 10:15:35             272"
      ]
     },
     "metadata": {},
     "output_type": "display_data"
    }
   ],
   "source": [
    "display(df.head())"
   ]
  }
 ],
 "metadata": {
  "kernelspec": {
   "display_name": "Python 3",
   "language": "python",
   "name": "python3"
  },
  "language_info": {
   "codemirror_mode": {
    "name": "ipython",
    "version": 3
   },
   "file_extension": ".py",
   "mimetype": "text/x-python",
   "name": "python",
   "nbconvert_exporter": "python",
   "pygments_lexer": "ipython3",
   "version": "3.11.8"
  }
 },
 "nbformat": 4,
 "nbformat_minor": 2
}
