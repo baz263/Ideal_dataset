{
 "cells": [
  {
   "cell_type": "code",
   "execution_count": 2,
   "metadata": {},
   "outputs": [
    {
     "name": "stdout",
     "output_type": "stream",
     "text": [
      "%pylab is deprecated, use %matplotlib inline and import the required libraries.\n",
      "Populating the interactive namespace from numpy and matplotlib\n"
     ]
    }
   ],
   "source": [
    "%pylab inline"
   ]
  },
  {
   "cell_type": "markdown",
   "metadata": {},
   "source": []
  },
  {
   "cell_type": "code",
   "execution_count": 3,
   "metadata": {},
   "outputs": [],
   "source": [
    "import sys\n",
    "sys.path.append('/Users/barry/CodeAcademy/Ideal_dataset/coding/API/')"
   ]
  },
  {
   "cell_type": "code",
   "execution_count": 4,
   "metadata": {},
   "outputs": [],
   "source": [
    "import numpy as np\n",
    "import pandas as pd\n",
    "\n",
    "from IdealDataInterface import IdealDataInterface"
   ]
  },
  {
   "cell_type": "markdown",
   "metadata": {},
   "source": [
    "### Specify the folder where your sensor data is"
   ]
  },
  {
   "cell_type": "code",
   "execution_count": 5,
   "metadata": {},
   "outputs": [
    {
     "name": "stdout",
     "output_type": "stream",
     "text": [
      "Found entries for 1592 sensor readings.\n"
     ]
    }
   ],
   "source": [
    "folder_path = '../../sensordata'\n",
    "ideal = IdealDataInterface(folder_path)"
   ]
  },
  {
   "cell_type": "code",
   "execution_count": 6,
   "metadata": {},
   "outputs": [
    {
     "data": {
      "text/plain": [
       "array(['hot-water-cold-pipe', 'gas', 'hot-water-hot-pipe',\n",
       "       'central-heating-return', 'cooker', 'electric-combined',\n",
       "       'central-heating-flow', 'mains', 'shower', 'oven', 'unlabelled',\n",
       "       'heating', 'utility-room-sockets', 'induction-hob', 'water-heater',\n",
       "       'sockets2', 'sockets1'], dtype=object)"
      ]
     },
     "execution_count": 6,
     "metadata": {},
     "output_type": "execute_result"
    }
   ],
   "source": [
    "ideal.view().subtype.unique()"
   ]
  },
  {
   "cell_type": "code",
   "execution_count": null,
   "metadata": {},
   "outputs": [],
   "source": []
  },
  {
   "cell_type": "code",
   "execution_count": null,
   "metadata": {},
   "outputs": [],
   "source": []
  },
  {
   "cell_type": "markdown",
   "metadata": {},
   "source": [
    "We have 255 houses"
   ]
  },
  {
   "cell_type": "code",
   "execution_count": 7,
   "metadata": {},
   "outputs": [],
   "source": [
    "communitity_df = ideal.view()"
   ]
  },
  {
   "cell_type": "code",
   "execution_count": 8,
   "metadata": {},
   "outputs": [
    {
     "data": {
      "text/plain": [
       "255"
      ]
     },
     "execution_count": 8,
     "metadata": {},
     "output_type": "execute_result"
    }
   ],
   "source": [
    "len(communitity_df.homeid.unique())"
   ]
  },
  {
   "cell_type": "code",
   "execution_count": 9,
   "metadata": {},
   "outputs": [],
   "source": [
    "list_of_homeids = sorted(communitity_df.homeid.unique())"
   ]
  },
  {
   "cell_type": "code",
   "execution_count": 14,
   "metadata": {},
   "outputs": [
    {
     "name": "stdout",
     "output_type": "stream",
     "text": [
      "['100', '101', '102', '105', '106', '107', '109', '110', '113', '114', '115', '116', '117', '118', '119', '120', '121', '122', '123', '124', '125', '126', '128', '129', '133', '134', '135', '136', '137', '138', '139', '140', '141', '143', '144', '145', '146', '147', '148', '149', '150', '151', '152', '153', '154', '155', '156', '157', '158', '159', '160', '161', '162', '163', '164', '165', '166', '167', '168', '169', '170', '171', '173', '174', '175', '176', '177', '178', '179', '180', '181', '182', '183', '184', '185', '186', '187', '188', '189', '190', '191', '192', '193', '194', '195', '197', '199', '200', '201', '202', '203', '205', '206', '207', '208', '209', '210', '211', '212', '213', '214', '215', '216', '218', '219', '221', '222', '223', '224', '225', '226', '227', '228', '229', '230', '231', '232', '233', '234', '235', '236', '237', '238', '239', '240', '241', '242', '243', '244', '245', '246', '247', '248', '249', '250', '251', '252', '253', '254', '255', '256', '257', '258', '259', '260', '261', '262', '263', '264', '265', '266', '267', '268', '269', '270', '271', '272', '273', '274', '275', '276', '277', '278', '279', '280', '281', '282', '283', '284', '285', '286', '287', '288', '289', '290', '291', '292', '293', '294', '295', '296', '298', '299', '300', '301', '302', '303', '304', '305', '306', '307', '308', '309', '310', '311', '313', '315', '316', '317', '318', '319', '320', '321', '322', '323', '325', '326', '327', '328', '329', '330', '331', '332', '333', '334', '335', '47', '59', '61', '62', '63', '64', '65', '66', '67', '68', '69', '70', '71', '72', '73', '74', '75', '76', '77', '78', '79', '80', '81', '82', '83', '84', '85', '86', '88', '89', '90', '91', '92', '93', '94', '96', '97', '98', '99']\n"
     ]
    }
   ],
   "source": [
    "print(list_of_homeids)"
   ]
  },
  {
   "cell_type": "markdown",
   "metadata": {},
   "source": [
    "### get a list of houses with the full set of sensors"
   ]
  },
  {
   "cell_type": "code",
   "execution_count": null,
   "metadata": {},
   "outputs": [],
   "source": []
  },
  {
   "cell_type": "markdown",
   "metadata": {},
   "source": [
    "### Data for one house"
   ]
  },
  {
   "cell_type": "code",
   "execution_count": 10,
   "metadata": {},
   "outputs": [],
   "source": [
    "communitity_df.homeid = communitity_df.homeid.astype(int)"
   ]
  },
  {
   "cell_type": "code",
   "execution_count": 11,
   "metadata": {},
   "outputs": [
    {
     "data": {
      "text/html": [
       "<div>\n",
       "<style scoped>\n",
       "    .dataframe tbody tr th:only-of-type {\n",
       "        vertical-align: middle;\n",
       "    }\n",
       "\n",
       "    .dataframe tbody tr th {\n",
       "        vertical-align: top;\n",
       "    }\n",
       "\n",
       "    .dataframe thead th {\n",
       "        text-align: right;\n",
       "    }\n",
       "</style>\n",
       "<table border=\"1\" class=\"dataframe\">\n",
       "  <thead>\n",
       "    <tr style=\"text-align: right;\">\n",
       "      <th></th>\n",
       "      <th>homeid</th>\n",
       "      <th>roomid</th>\n",
       "      <th>room_type</th>\n",
       "      <th>category</th>\n",
       "      <th>subtype</th>\n",
       "      <th>sensorid</th>\n",
       "    </tr>\n",
       "  </thead>\n",
       "  <tbody>\n",
       "    <tr>\n",
       "      <th>1215</th>\n",
       "      <td>47</td>\n",
       "      <td>650</td>\n",
       "      <td>kitchen</td>\n",
       "      <td>tempprobe</td>\n",
       "      <td>central-heating-flow</td>\n",
       "      <td>1190</td>\n",
       "    </tr>\n",
       "  </tbody>\n",
       "</table>\n",
       "</div>"
      ],
      "text/plain": [
       "      homeid roomid room_type   category               subtype sensorid\n",
       "1215      47    650   kitchen  tempprobe  central-heating-flow     1190"
      ]
     },
     "execution_count": 11,
     "metadata": {},
     "output_type": "execute_result"
    }
   ],
   "source": [
    "communitity_df.sort_values(by = 'homeid', ascending = True).head(1)"
   ]
  },
  {
   "cell_type": "markdown",
   "metadata": {},
   "source": [
    "### how many rooms per house"
   ]
  },
  {
   "cell_type": "code",
   "execution_count": 12,
   "metadata": {},
   "outputs": [
    {
     "ename": "NameError",
     "evalue": "name 'house' is not defined",
     "output_type": "error",
     "traceback": [
      "\u001b[0;31m---------------------------------------------------------------------------\u001b[0m",
      "\u001b[0;31mNameError\u001b[0m                                 Traceback (most recent call last)",
      "Cell \u001b[0;32mIn[12], line 1\u001b[0m\n\u001b[0;32m----> 1\u001b[0m \u001b[38;5;28mprint\u001b[39m(\u001b[38;5;124mf\u001b[39m\u001b[38;5;124m'\u001b[39m\u001b[38;5;124mhomeid: \u001b[39m\u001b[38;5;132;01m{\u001b[39;00mhouse\u001b[38;5;132;01m}\u001b[39;00m\u001b[38;5;124m rooms: \u001b[39m\u001b[38;5;132;01m{\u001b[39;00m\u001b[38;5;28mlen\u001b[39m(ideal\u001b[38;5;241m.\u001b[39mget(homeid\u001b[38;5;250m \u001b[39m\u001b[38;5;241m=\u001b[39m\u001b[38;5;250m \u001b[39m\u001b[38;5;241m82\u001b[39m))\u001b[38;5;132;01m}\u001b[39;00m\u001b[38;5;124m'\u001b[39m)\n",
      "\u001b[0;31mNameError\u001b[0m: name 'house' is not defined"
     ]
    }
   ],
   "source": [
    "print(f'homeid: {house} rooms: {len(ideal.get(homeid = 82))}')"
   ]
  },
  {
   "cell_type": "code",
   "execution_count": null,
   "metadata": {},
   "outputs": [
    {
     "data": {
      "text/html": [
       "<div>\n",
       "<style scoped>\n",
       "    .dataframe tbody tr th:only-of-type {\n",
       "        vertical-align: middle;\n",
       "    }\n",
       "\n",
       "    .dataframe tbody tr th {\n",
       "        vertical-align: top;\n",
       "    }\n",
       "\n",
       "    .dataframe thead th {\n",
       "        text-align: right;\n",
       "    }\n",
       "</style>\n",
       "<table border=\"1\" class=\"dataframe\">\n",
       "  <thead>\n",
       "    <tr style=\"text-align: right;\">\n",
       "      <th></th>\n",
       "      <th>homeid</th>\n",
       "      <th>roomid</th>\n",
       "      <th>room_type</th>\n",
       "      <th>category</th>\n",
       "      <th>subtype</th>\n",
       "      <th>sensorid</th>\n",
       "    </tr>\n",
       "  </thead>\n",
       "  <tbody>\n",
       "    <tr>\n",
       "      <th>0</th>\n",
       "      <td>82</td>\n",
       "      <td>892</td>\n",
       "      <td>bathroom</td>\n",
       "      <td>tempprobe</td>\n",
       "      <td>hot-water-cold-pipe</td>\n",
       "      <td>3249</td>\n",
       "    </tr>\n",
       "    <tr>\n",
       "      <th>1</th>\n",
       "      <td>249</td>\n",
       "      <td>2306</td>\n",
       "      <td>hall</td>\n",
       "      <td>gas-pulse</td>\n",
       "      <td>gas</td>\n",
       "      <td>14905</td>\n",
       "    </tr>\n",
       "    <tr>\n",
       "      <th>2</th>\n",
       "      <td>308</td>\n",
       "      <td>2831</td>\n",
       "      <td>kitchen</td>\n",
       "      <td>tempprobe</td>\n",
       "      <td>hot-water-hot-pipe</td>\n",
       "      <td>19973</td>\n",
       "    </tr>\n",
       "    <tr>\n",
       "      <th>3</th>\n",
       "      <td>139</td>\n",
       "      <td>1315</td>\n",
       "      <td>kitchen</td>\n",
       "      <td>tempprobe</td>\n",
       "      <td>central-heating-return</td>\n",
       "      <td>6810</td>\n",
       "    </tr>\n",
       "    <tr>\n",
       "      <th>4</th>\n",
       "      <td>199</td>\n",
       "      <td>1854</td>\n",
       "      <td>kitchen</td>\n",
       "      <td>tempprobe</td>\n",
       "      <td>central-heating-return</td>\n",
       "      <td>11139</td>\n",
       "    </tr>\n",
       "    <tr>\n",
       "      <th>...</th>\n",
       "      <td>...</td>\n",
       "      <td>...</td>\n",
       "      <td>...</td>\n",
       "      <td>...</td>\n",
       "      <td>...</td>\n",
       "      <td>...</td>\n",
       "    </tr>\n",
       "    <tr>\n",
       "      <th>1587</th>\n",
       "      <td>93</td>\n",
       "      <td>984</td>\n",
       "      <td>bedroom</td>\n",
       "      <td>tempprobe</td>\n",
       "      <td>hot-water-hot-pipe</td>\n",
       "      <td>3922</td>\n",
       "    </tr>\n",
       "    <tr>\n",
       "      <th>1588</th>\n",
       "      <td>68</td>\n",
       "      <td>757</td>\n",
       "      <td>utility</td>\n",
       "      <td>electric-mains</td>\n",
       "      <td>electric-combined</td>\n",
       "      <td>2122c2126</td>\n",
       "    </tr>\n",
       "    <tr>\n",
       "      <th>1589</th>\n",
       "      <td>219</td>\n",
       "      <td>2020</td>\n",
       "      <td>kitchen</td>\n",
       "      <td>tempprobe</td>\n",
       "      <td>central-heating-flow</td>\n",
       "      <td>12547</td>\n",
       "    </tr>\n",
       "    <tr>\n",
       "      <th>1590</th>\n",
       "      <td>175</td>\n",
       "      <td>1638</td>\n",
       "      <td>bedroom</td>\n",
       "      <td>tempprobe</td>\n",
       "      <td>hot-water-hot-pipe</td>\n",
       "      <td>9522</td>\n",
       "    </tr>\n",
       "    <tr>\n",
       "      <th>1591</th>\n",
       "      <td>255</td>\n",
       "      <td>2916</td>\n",
       "      <td>utility</td>\n",
       "      <td>electric-subcircuit</td>\n",
       "      <td>cooker</td>\n",
       "      <td>20625</td>\n",
       "    </tr>\n",
       "  </tbody>\n",
       "</table>\n",
       "<p>1592 rows × 6 columns</p>\n",
       "</div>"
      ],
      "text/plain": [
       "     homeid roomid room_type             category                 subtype  \\\n",
       "0        82    892  bathroom            tempprobe     hot-water-cold-pipe   \n",
       "1       249   2306      hall            gas-pulse                     gas   \n",
       "2       308   2831   kitchen            tempprobe      hot-water-hot-pipe   \n",
       "3       139   1315   kitchen            tempprobe  central-heating-return   \n",
       "4       199   1854   kitchen            tempprobe  central-heating-return   \n",
       "...     ...    ...       ...                  ...                     ...   \n",
       "1587     93    984   bedroom            tempprobe      hot-water-hot-pipe   \n",
       "1588     68    757   utility       electric-mains       electric-combined   \n",
       "1589    219   2020   kitchen            tempprobe    central-heating-flow   \n",
       "1590    175   1638   bedroom            tempprobe      hot-water-hot-pipe   \n",
       "1591    255   2916   utility  electric-subcircuit                  cooker   \n",
       "\n",
       "       sensorid  \n",
       "0          3249  \n",
       "1         14905  \n",
       "2         19973  \n",
       "3          6810  \n",
       "4         11139  \n",
       "...         ...  \n",
       "1587       3922  \n",
       "1588  2122c2126  \n",
       "1589      12547  \n",
       "1590       9522  \n",
       "1591      20625  \n",
       "\n",
       "[1592 rows x 6 columns]"
      ]
     },
     "execution_count": 50,
     "metadata": {},
     "output_type": "execute_result"
    }
   ],
   "source": [
    "ideal.view()"
   ]
  },
  {
   "cell_type": "code",
   "execution_count": null,
   "metadata": {},
   "outputs": [
    {
     "data": {
      "text/html": [
       "<div>\n",
       "<style scoped>\n",
       "    .dataframe tbody tr th:only-of-type {\n",
       "        vertical-align: middle;\n",
       "    }\n",
       "\n",
       "    .dataframe tbody tr th {\n",
       "        vertical-align: top;\n",
       "    }\n",
       "\n",
       "    .dataframe thead th {\n",
       "        text-align: right;\n",
       "    }\n",
       "</style>\n",
       "<table border=\"1\" class=\"dataframe\">\n",
       "  <thead>\n",
       "    <tr style=\"text-align: right;\">\n",
       "      <th></th>\n",
       "      <th>sensors_per_home</th>\n",
       "      <th>count</th>\n",
       "    </tr>\n",
       "  </thead>\n",
       "  <tbody>\n",
       "    <tr>\n",
       "      <th>0</th>\n",
       "      <td>6</td>\n",
       "      <td>202</td>\n",
       "    </tr>\n",
       "    <tr>\n",
       "      <th>1</th>\n",
       "      <td>8</td>\n",
       "      <td>21</td>\n",
       "    </tr>\n",
       "    <tr>\n",
       "      <th>2</th>\n",
       "      <td>5</td>\n",
       "      <td>15</td>\n",
       "    </tr>\n",
       "    <tr>\n",
       "      <th>3</th>\n",
       "      <td>9</td>\n",
       "      <td>9</td>\n",
       "    </tr>\n",
       "    <tr>\n",
       "      <th>4</th>\n",
       "      <td>7</td>\n",
       "      <td>6</td>\n",
       "    </tr>\n",
       "    <tr>\n",
       "      <th>5</th>\n",
       "      <td>10</td>\n",
       "      <td>1</td>\n",
       "    </tr>\n",
       "    <tr>\n",
       "      <th>6</th>\n",
       "      <td>4</td>\n",
       "      <td>1</td>\n",
       "    </tr>\n",
       "  </tbody>\n",
       "</table>\n",
       "</div>"
      ],
      "text/plain": [
       "   sensors_per_home  count\n",
       "0                 6    202\n",
       "1                 8     21\n",
       "2                 5     15\n",
       "3                 9      9\n",
       "4                 7      6\n",
       "5                10      1\n",
       "6                 4      1"
      ]
     },
     "metadata": {},
     "output_type": "display_data"
    }
   ],
   "source": [
    "sensors_per_home = ideal.view().sort_values(by = 'homeid', ascending = True).groupby('homeid').count().roomid.reset_index()\n",
    "sensors_per_home.columns = ['homeid', 'sensors_per_home']\n",
    "display(sensors_per_home.sensors_per_home.value_counts().reset_index())\n"
   ]
  },
  {
   "cell_type": "markdown",
   "metadata": {},
   "source": [
    "### how many of each type of room"
   ]
  },
  {
   "cell_type": "code",
   "execution_count": null,
   "metadata": {},
   "outputs": [
    {
     "data": {
      "text/html": [
       "<div>\n",
       "<style scoped>\n",
       "    .dataframe tbody tr th:only-of-type {\n",
       "        vertical-align: middle;\n",
       "    }\n",
       "\n",
       "    .dataframe tbody tr th {\n",
       "        vertical-align: top;\n",
       "    }\n",
       "\n",
       "    .dataframe thead th {\n",
       "        text-align: right;\n",
       "    }\n",
       "</style>\n",
       "<table border=\"1\" class=\"dataframe\">\n",
       "  <thead>\n",
       "    <tr style=\"text-align: right;\">\n",
       "      <th></th>\n",
       "      <th>room_type</th>\n",
       "      <th>count</th>\n",
       "    </tr>\n",
       "  </thead>\n",
       "  <tbody>\n",
       "    <tr>\n",
       "      <th>0</th>\n",
       "      <td>bathroom</td>\n",
       "      <td>29</td>\n",
       "    </tr>\n",
       "    <tr>\n",
       "      <th>1</th>\n",
       "      <td>bedroom</td>\n",
       "      <td>93</td>\n",
       "    </tr>\n",
       "    <tr>\n",
       "      <th>2</th>\n",
       "      <td>cupboard</td>\n",
       "      <td>12</td>\n",
       "    </tr>\n",
       "    <tr>\n",
       "      <th>3</th>\n",
       "      <td>diningroom</td>\n",
       "      <td>13</td>\n",
       "    </tr>\n",
       "    <tr>\n",
       "      <th>4</th>\n",
       "      <td>hall</td>\n",
       "      <td>440</td>\n",
       "    </tr>\n",
       "    <tr>\n",
       "      <th>5</th>\n",
       "      <td>kitchen</td>\n",
       "      <td>488</td>\n",
       "    </tr>\n",
       "    <tr>\n",
       "      <th>6</th>\n",
       "      <td>kitchenliving</td>\n",
       "      <td>30</td>\n",
       "    </tr>\n",
       "    <tr>\n",
       "      <th>7</th>\n",
       "      <td>livingroom</td>\n",
       "      <td>86</td>\n",
       "    </tr>\n",
       "    <tr>\n",
       "      <th>8</th>\n",
       "      <td>other</td>\n",
       "      <td>83</td>\n",
       "    </tr>\n",
       "    <tr>\n",
       "      <th>9</th>\n",
       "      <td>outside</td>\n",
       "      <td>128</td>\n",
       "    </tr>\n",
       "    <tr>\n",
       "      <th>10</th>\n",
       "      <td>study</td>\n",
       "      <td>8</td>\n",
       "    </tr>\n",
       "    <tr>\n",
       "      <th>11</th>\n",
       "      <td>utility</td>\n",
       "      <td>182</td>\n",
       "    </tr>\n",
       "  </tbody>\n",
       "</table>\n",
       "</div>"
      ],
      "text/plain": [
       "        room_type  count\n",
       "0        bathroom     29\n",
       "1         bedroom     93\n",
       "2        cupboard     12\n",
       "3      diningroom     13\n",
       "4            hall    440\n",
       "5         kitchen    488\n",
       "6   kitchenliving     30\n",
       "7      livingroom     86\n",
       "8           other     83\n",
       "9         outside    128\n",
       "10          study      8\n",
       "11        utility    182"
      ]
     },
     "execution_count": 52,
     "metadata": {},
     "output_type": "execute_result"
    }
   ],
   "source": [
    "total_sensors_per_room = ideal.view().groupby('room_type').count().homeid.reset_index()\n",
    "total_sensors_per_room.columns = ['room_type', 'count']\n",
    "total_sensors_per_room"
   ]
  },
  {
   "cell_type": "code",
   "execution_count": null,
   "metadata": {},
   "outputs": [
    {
     "data": {
      "text/html": [
       "<div>\n",
       "<style scoped>\n",
       "    .dataframe tbody tr th:only-of-type {\n",
       "        vertical-align: middle;\n",
       "    }\n",
       "\n",
       "    .dataframe tbody tr th {\n",
       "        vertical-align: top;\n",
       "    }\n",
       "\n",
       "    .dataframe thead th {\n",
       "        text-align: right;\n",
       "    }\n",
       "</style>\n",
       "<table border=\"1\" class=\"dataframe\">\n",
       "  <thead>\n",
       "    <tr style=\"text-align: right;\">\n",
       "      <th></th>\n",
       "      <th>homeid</th>\n",
       "      <th>roomid</th>\n",
       "      <th>room_type</th>\n",
       "      <th>category</th>\n",
       "      <th>subtype</th>\n",
       "      <th>sensorid</th>\n",
       "    </tr>\n",
       "  </thead>\n",
       "  <tbody>\n",
       "    <tr>\n",
       "      <th>0</th>\n",
       "      <td>82</td>\n",
       "      <td>892</td>\n",
       "      <td>bathroom</td>\n",
       "      <td>tempprobe</td>\n",
       "      <td>hot-water-cold-pipe</td>\n",
       "      <td>3249</td>\n",
       "    </tr>\n",
       "    <tr>\n",
       "      <th>1</th>\n",
       "      <td>249</td>\n",
       "      <td>2306</td>\n",
       "      <td>hall</td>\n",
       "      <td>gas-pulse</td>\n",
       "      <td>gas</td>\n",
       "      <td>14905</td>\n",
       "    </tr>\n",
       "    <tr>\n",
       "      <th>2</th>\n",
       "      <td>308</td>\n",
       "      <td>2831</td>\n",
       "      <td>kitchen</td>\n",
       "      <td>tempprobe</td>\n",
       "      <td>hot-water-hot-pipe</td>\n",
       "      <td>19973</td>\n",
       "    </tr>\n",
       "    <tr>\n",
       "      <th>3</th>\n",
       "      <td>139</td>\n",
       "      <td>1315</td>\n",
       "      <td>kitchen</td>\n",
       "      <td>tempprobe</td>\n",
       "      <td>central-heating-return</td>\n",
       "      <td>6810</td>\n",
       "    </tr>\n",
       "    <tr>\n",
       "      <th>4</th>\n",
       "      <td>199</td>\n",
       "      <td>1854</td>\n",
       "      <td>kitchen</td>\n",
       "      <td>tempprobe</td>\n",
       "      <td>central-heating-return</td>\n",
       "      <td>11139</td>\n",
       "    </tr>\n",
       "    <tr>\n",
       "      <th>...</th>\n",
       "      <td>...</td>\n",
       "      <td>...</td>\n",
       "      <td>...</td>\n",
       "      <td>...</td>\n",
       "      <td>...</td>\n",
       "      <td>...</td>\n",
       "    </tr>\n",
       "    <tr>\n",
       "      <th>1587</th>\n",
       "      <td>93</td>\n",
       "      <td>984</td>\n",
       "      <td>bedroom</td>\n",
       "      <td>tempprobe</td>\n",
       "      <td>hot-water-hot-pipe</td>\n",
       "      <td>3922</td>\n",
       "    </tr>\n",
       "    <tr>\n",
       "      <th>1588</th>\n",
       "      <td>68</td>\n",
       "      <td>757</td>\n",
       "      <td>utility</td>\n",
       "      <td>electric-mains</td>\n",
       "      <td>electric-combined</td>\n",
       "      <td>2122c2126</td>\n",
       "    </tr>\n",
       "    <tr>\n",
       "      <th>1589</th>\n",
       "      <td>219</td>\n",
       "      <td>2020</td>\n",
       "      <td>kitchen</td>\n",
       "      <td>tempprobe</td>\n",
       "      <td>central-heating-flow</td>\n",
       "      <td>12547</td>\n",
       "    </tr>\n",
       "    <tr>\n",
       "      <th>1590</th>\n",
       "      <td>175</td>\n",
       "      <td>1638</td>\n",
       "      <td>bedroom</td>\n",
       "      <td>tempprobe</td>\n",
       "      <td>hot-water-hot-pipe</td>\n",
       "      <td>9522</td>\n",
       "    </tr>\n",
       "    <tr>\n",
       "      <th>1591</th>\n",
       "      <td>255</td>\n",
       "      <td>2916</td>\n",
       "      <td>utility</td>\n",
       "      <td>electric-subcircuit</td>\n",
       "      <td>cooker</td>\n",
       "      <td>20625</td>\n",
       "    </tr>\n",
       "  </tbody>\n",
       "</table>\n",
       "<p>1592 rows × 6 columns</p>\n",
       "</div>"
      ],
      "text/plain": [
       "     homeid roomid room_type             category                 subtype  \\\n",
       "0        82    892  bathroom            tempprobe     hot-water-cold-pipe   \n",
       "1       249   2306      hall            gas-pulse                     gas   \n",
       "2       308   2831   kitchen            tempprobe      hot-water-hot-pipe   \n",
       "3       139   1315   kitchen            tempprobe  central-heating-return   \n",
       "4       199   1854   kitchen            tempprobe  central-heating-return   \n",
       "...     ...    ...       ...                  ...                     ...   \n",
       "1587     93    984   bedroom            tempprobe      hot-water-hot-pipe   \n",
       "1588     68    757   utility       electric-mains       electric-combined   \n",
       "1589    219   2020   kitchen            tempprobe    central-heating-flow   \n",
       "1590    175   1638   bedroom            tempprobe      hot-water-hot-pipe   \n",
       "1591    255   2916   utility  electric-subcircuit                  cooker   \n",
       "\n",
       "       sensorid  \n",
       "0          3249  \n",
       "1         14905  \n",
       "2         19973  \n",
       "3          6810  \n",
       "4         11139  \n",
       "...         ...  \n",
       "1587       3922  \n",
       "1588  2122c2126  \n",
       "1589      12547  \n",
       "1590       9522  \n",
       "1591      20625  \n",
       "\n",
       "[1592 rows x 6 columns]"
      ]
     },
     "execution_count": 48,
     "metadata": {},
     "output_type": "execute_result"
    }
   ],
   "source": [
    "ideal.view()"
   ]
  },
  {
   "cell_type": "markdown",
   "metadata": {},
   "source": [
    "### ideal.get()  \n",
    "When I run ideal.get() on a home id it returns a list.  \n",
    "Each item in the list refers to a different room  \n",
    "Each room is a dictionary containing these keys:  \n",
    "['homeid', 'roomid', 'room_type', 'category', 'subtype', 'sensorid', 'readings']  \n",
    "Where 'readings' is a Pandas series. if i .reset_index() it i can get it as a dataframe "
   ]
  },
  {
   "cell_type": "code",
   "execution_count": null,
   "metadata": {},
   "outputs": [
    {
     "data": {
      "text/html": [
       "<div>\n",
       "<style scoped>\n",
       "    .dataframe tbody tr th:only-of-type {\n",
       "        vertical-align: middle;\n",
       "    }\n",
       "\n",
       "    .dataframe tbody tr th {\n",
       "        vertical-align: top;\n",
       "    }\n",
       "\n",
       "    .dataframe thead th {\n",
       "        text-align: right;\n",
       "    }\n",
       "</style>\n",
       "<table border=\"1\" class=\"dataframe\">\n",
       "  <thead>\n",
       "    <tr style=\"text-align: right;\">\n",
       "      <th></th>\n",
       "      <th>homeid</th>\n",
       "      <th>roomid</th>\n",
       "      <th>room_type</th>\n",
       "      <th>category</th>\n",
       "      <th>subtype</th>\n",
       "      <th>sensorid</th>\n",
       "    </tr>\n",
       "  </thead>\n",
       "  <tbody>\n",
       "    <tr>\n",
       "      <th>0</th>\n",
       "      <td>47</td>\n",
       "      <td>650</td>\n",
       "      <td>kitchen</td>\n",
       "      <td>tempprobe</td>\n",
       "      <td>hot-water-hot-pipe</td>\n",
       "      <td>1183</td>\n",
       "    </tr>\n",
       "    <tr>\n",
       "      <th>1</th>\n",
       "      <td>47</td>\n",
       "      <td>654</td>\n",
       "      <td>hall</td>\n",
       "      <td>gas-pulse</td>\n",
       "      <td>gas</td>\n",
       "      <td>1221</td>\n",
       "    </tr>\n",
       "    <tr>\n",
       "      <th>2</th>\n",
       "      <td>47</td>\n",
       "      <td>650</td>\n",
       "      <td>kitchen</td>\n",
       "      <td>tempprobe</td>\n",
       "      <td>central-heating-return</td>\n",
       "      <td>1189</td>\n",
       "    </tr>\n",
       "    <tr>\n",
       "      <th>3</th>\n",
       "      <td>47</td>\n",
       "      <td>654</td>\n",
       "      <td>hall</td>\n",
       "      <td>electric-mains</td>\n",
       "      <td>electric-combined</td>\n",
       "      <td>1216c1220</td>\n",
       "    </tr>\n",
       "    <tr>\n",
       "      <th>4</th>\n",
       "      <td>47</td>\n",
       "      <td>650</td>\n",
       "      <td>kitchen</td>\n",
       "      <td>tempprobe</td>\n",
       "      <td>central-heating-flow</td>\n",
       "      <td>1190</td>\n",
       "    </tr>\n",
       "    <tr>\n",
       "      <th>5</th>\n",
       "      <td>47</td>\n",
       "      <td>650</td>\n",
       "      <td>kitchen</td>\n",
       "      <td>tempprobe</td>\n",
       "      <td>hot-water-cold-pipe</td>\n",
       "      <td>1182</td>\n",
       "    </tr>\n",
       "  </tbody>\n",
       "</table>\n",
       "</div>"
      ],
      "text/plain": [
       "  homeid roomid room_type        category                 subtype   sensorid\n",
       "0     47    650   kitchen       tempprobe      hot-water-hot-pipe       1183\n",
       "1     47    654      hall       gas-pulse                     gas       1221\n",
       "2     47    650   kitchen       tempprobe  central-heating-return       1189\n",
       "3     47    654      hall  electric-mains       electric-combined  1216c1220\n",
       "4     47    650   kitchen       tempprobe    central-heating-flow       1190\n",
       "5     47    650   kitchen       tempprobe     hot-water-cold-pipe       1182"
      ]
     },
     "execution_count": 56,
     "metadata": {},
     "output_type": "execute_result"
    }
   ],
   "source": [
    "view_homid_47 = ideal.view(homeid = 47)\n",
    "view_homid_47"
   ]
  },
  {
   "cell_type": "code",
   "execution_count": null,
   "metadata": {},
   "outputs": [],
   "source": [
    "homeid_47 = ideal.get(homeid = 47)"
   ]
  },
  {
   "cell_type": "code",
   "execution_count": null,
   "metadata": {},
   "outputs": [
    {
     "data": {
      "text/plain": [
       "[{'homeid': '47',\n",
       "  'roomid': '650',\n",
       "  'room_type': 'kitchen',\n",
       "  'category': 'tempprobe',\n",
       "  'subtype': 'hot-water-hot-pipe',\n",
       "  'sensorid': '1183',\n",
       "  'readings': time\n",
       "  2016-08-10 09:25:46    283\n",
       "  2016-08-10 09:25:58    283\n",
       "  2016-08-10 09:26:10    283\n",
       "  2016-08-10 09:26:22    283\n",
       "  2016-08-10 09:26:34    283\n",
       "                        ... \n",
       "  2017-05-08 16:09:41    190\n",
       "  2017-05-08 16:09:53    190\n",
       "  2017-05-08 16:10:05    190\n",
       "  2017-05-08 16:10:17    190\n",
       "  2017-05-08 16:10:29    190\n",
       "  Name: hot-water-hot-pipe, Length: 1880458, dtype: int64},\n",
       " {'homeid': '47',\n",
       "  'roomid': '654',\n",
       "  'room_type': 'hall',\n",
       "  'category': 'gas-pulse',\n",
       "  'subtype': 'gas',\n",
       "  'sensorid': '1221',\n",
       "  'readings': time\n",
       "  2016-09-20 08:08:46    112\n",
       "  2016-09-20 08:09:05    112\n",
       "  2016-09-20 16:25:27    112\n",
       "  2016-09-20 17:20:04    112\n",
       "  2016-09-20 17:22:10    112\n",
       "                        ... \n",
       "  2017-05-08 18:38:23    112\n",
       "  2017-05-08 18:38:58    112\n",
       "  2017-05-08 18:39:16    112\n",
       "  2017-05-08 18:43:34    112\n",
       "  2017-05-08 18:50:58    112\n",
       "  Name: gas, Length: 36809, dtype: int64},\n",
       " {'homeid': '47',\n",
       "  'roomid': '650',\n",
       "  'room_type': 'kitchen',\n",
       "  'category': 'tempprobe',\n",
       "  'subtype': 'central-heating-return',\n",
       "  'sensorid': '1189',\n",
       "  'readings': time\n",
       "  2016-08-10 09:31:56    265\n",
       "  2016-08-10 09:32:08    270\n",
       "  2016-08-10 09:32:20    270\n",
       "  2016-08-10 09:32:32    270\n",
       "  2016-08-10 09:32:44    270\n",
       "                        ... \n",
       "  2017-03-10 08:08:07    315\n",
       "  2017-03-10 08:08:19    314\n",
       "  2017-03-10 08:08:31    314\n",
       "  2017-03-10 08:08:43    316\n",
       "  2017-03-10 08:08:55    318\n",
       "  Name: central-heating-return, Length: 1362363, dtype: int64},\n",
       " {'homeid': '47',\n",
       "  'roomid': '654',\n",
       "  'room_type': 'hall',\n",
       "  'category': 'electric-mains',\n",
       "  'subtype': 'electric-combined',\n",
       "  'sensorid': '1216c1220',\n",
       "  'readings': time\n",
       "  2016-08-10 10:15:27       0\n",
       "  2016-08-10 10:15:28     269\n",
       "  2016-08-10 10:15:33     108\n",
       "  2016-08-10 10:15:34     274\n",
       "  2016-08-10 10:15:35     272\n",
       "                         ... \n",
       "  2017-05-08 19:04:02    1633\n",
       "  2017-05-08 19:04:03     857\n",
       "  2017-05-08 19:04:04     429\n",
       "  2017-05-08 19:04:05     251\n",
       "  2017-05-08 19:04:06     113\n",
       "  Name: electric-combined, Length: 21447239, dtype: int64},\n",
       " {'homeid': '47',\n",
       "  'roomid': '650',\n",
       "  'room_type': 'kitchen',\n",
       "  'category': 'tempprobe',\n",
       "  'subtype': 'central-heating-flow',\n",
       "  'sensorid': '1190',\n",
       "  'readings': time\n",
       "  2016-08-10 09:31:56    273\n",
       "  2016-08-10 09:32:08    273\n",
       "  2016-08-10 09:32:20    273\n",
       "  2016-08-10 09:32:32    273\n",
       "  2016-08-10 09:32:44    273\n",
       "                        ... \n",
       "  2017-05-08 16:09:05    190\n",
       "  2017-05-08 16:09:17    190\n",
       "  2017-05-08 16:09:29    190\n",
       "  2017-05-08 16:09:41    190\n",
       "  2017-05-08 16:09:53    190\n",
       "  Name: central-heating-flow, Length: 1898583, dtype: int64},\n",
       " {'homeid': '47',\n",
       "  'roomid': '650',\n",
       "  'room_type': 'kitchen',\n",
       "  'category': 'tempprobe',\n",
       "  'subtype': 'hot-water-cold-pipe',\n",
       "  'sensorid': '1182',\n",
       "  'readings': time\n",
       "  2016-08-10 09:25:46    230\n",
       "  2016-08-10 09:25:58    230\n",
       "  2016-08-10 09:26:10    230\n",
       "  2016-08-10 09:26:22    230\n",
       "  2016-08-10 09:26:34    230\n",
       "                        ... \n",
       "  2017-05-08 16:09:41    190\n",
       "  2017-05-08 16:09:53    190\n",
       "  2017-05-08 16:10:05    190\n",
       "  2017-05-08 16:10:17    190\n",
       "  2017-05-08 16:10:29    190\n",
       "  Name: hot-water-cold-pipe, Length: 1880458, dtype: int64}]"
      ]
     },
     "execution_count": 55,
     "metadata": {},
     "output_type": "execute_result"
    }
   ],
   "source": [
    "homeid_47"
   ]
  },
  {
   "cell_type": "code",
   "execution_count": null,
   "metadata": {},
   "outputs": [
    {
     "name": "stdout",
     "output_type": "stream",
     "text": [
      "[{'homeid': '47', 'roomid': '650', 'room_type': 'kitchen', 'category': 'tempprobe', 'subtype': 'hot-water-hot-pipe', 'sensorid': '1183', 'readings': time\n",
      "2016-08-10 09:25:46    283\n",
      "2016-08-10 09:25:58    283\n",
      "2016-08-10 09:26:10    283\n",
      "2016-08-10 09:26:22    283\n",
      "2016-08-10 09:26:34    283\n",
      "                      ... \n",
      "2017-05-08 16:09:41    190\n",
      "2017-05-08 16:09:53    190\n",
      "2017-05-08 16:10:05    190\n",
      "2017-05-08 16:10:17    190\n",
      "2017-05-08 16:10:29    190\n",
      "Name: hot-water-hot-pipe, Length: 1880458, dtype: int64}, {'homeid': '47', 'roomid': '654', 'room_type': 'hall', 'category': 'gas-pulse', 'subtype': 'gas', 'sensorid': '1221', 'readings': time\n",
      "2016-09-20 08:08:46    112\n",
      "2016-09-20 08:09:05    112\n",
      "2016-09-20 16:25:27    112\n",
      "2016-09-20 17:20:04    112\n",
      "2016-09-20 17:22:10    112\n",
      "                      ... \n",
      "2017-05-08 18:38:23    112\n",
      "2017-05-08 18:38:58    112\n",
      "2017-05-08 18:39:16    112\n",
      "2017-05-08 18:43:34    112\n",
      "2017-05-08 18:50:58    112\n",
      "Name: gas, Length: 36809, dtype: int64}, {'homeid': '47', 'roomid': '650', 'room_type': 'kitchen', 'category': 'tempprobe', 'subtype': 'central-heating-return', 'sensorid': '1189', 'readings': time\n",
      "2016-08-10 09:31:56    265\n",
      "2016-08-10 09:32:08    270\n",
      "2016-08-10 09:32:20    270\n",
      "2016-08-10 09:32:32    270\n",
      "2016-08-10 09:32:44    270\n",
      "                      ... \n",
      "2017-03-10 08:08:07    315\n",
      "2017-03-10 08:08:19    314\n",
      "2017-03-10 08:08:31    314\n",
      "2017-03-10 08:08:43    316\n",
      "2017-03-10 08:08:55    318\n",
      "Name: central-heating-return, Length: 1362363, dtype: int64}, {'homeid': '47', 'roomid': '654', 'room_type': 'hall', 'category': 'electric-mains', 'subtype': 'electric-combined', 'sensorid': '1216c1220', 'readings': time\n",
      "2016-08-10 10:15:27       0\n",
      "2016-08-10 10:15:28     269\n",
      "2016-08-10 10:15:33     108\n",
      "2016-08-10 10:15:34     274\n",
      "2016-08-10 10:15:35     272\n",
      "                       ... \n",
      "2017-05-08 19:04:02    1633\n",
      "2017-05-08 19:04:03     857\n",
      "2017-05-08 19:04:04     429\n",
      "2017-05-08 19:04:05     251\n",
      "2017-05-08 19:04:06     113\n",
      "Name: electric-combined, Length: 21447239, dtype: int64}, {'homeid': '47', 'roomid': '650', 'room_type': 'kitchen', 'category': 'tempprobe', 'subtype': 'central-heating-flow', 'sensorid': '1190', 'readings': time\n",
      "2016-08-10 09:31:56    273\n",
      "2016-08-10 09:32:08    273\n",
      "2016-08-10 09:32:20    273\n",
      "2016-08-10 09:32:32    273\n",
      "2016-08-10 09:32:44    273\n",
      "                      ... \n",
      "2017-05-08 16:09:05    190\n",
      "2017-05-08 16:09:17    190\n",
      "2017-05-08 16:09:29    190\n",
      "2017-05-08 16:09:41    190\n",
      "2017-05-08 16:09:53    190\n",
      "Name: central-heating-flow, Length: 1898583, dtype: int64}, {'homeid': '47', 'roomid': '650', 'room_type': 'kitchen', 'category': 'tempprobe', 'subtype': 'hot-water-cold-pipe', 'sensorid': '1182', 'readings': time\n",
      "2016-08-10 09:25:46    230\n",
      "2016-08-10 09:25:58    230\n",
      "2016-08-10 09:26:10    230\n",
      "2016-08-10 09:26:22    230\n",
      "2016-08-10 09:26:34    230\n",
      "                      ... \n",
      "2017-05-08 16:09:41    190\n",
      "2017-05-08 16:09:53    190\n",
      "2017-05-08 16:10:05    190\n",
      "2017-05-08 16:10:17    190\n",
      "2017-05-08 16:10:29    190\n",
      "Name: hot-water-cold-pipe, Length: 1880458, dtype: int64}]\n"
     ]
    }
   ],
   "source": [
    "print(homeid_47)"
   ]
  },
  {
   "cell_type": "code",
   "execution_count": null,
   "metadata": {},
   "outputs": [
    {
     "name": "stdout",
     "output_type": "stream",
     "text": [
      "<class 'list'>\n"
     ]
    }
   ],
   "source": [
    "print(type(homeid_47))"
   ]
  },
  {
   "cell_type": "code",
   "execution_count": null,
   "metadata": {},
   "outputs": [
    {
     "name": "stdout",
     "output_type": "stream",
     "text": [
      "6\n"
     ]
    }
   ],
   "source": [
    "print(len(homeid_47))"
   ]
  },
  {
   "cell_type": "code",
   "execution_count": null,
   "metadata": {},
   "outputs": [
    {
     "name": "stdout",
     "output_type": "stream",
     "text": [
      "dict_keys(['homeid', 'roomid', 'room_type', 'category', 'subtype', 'sensorid', 'readings'])\n"
     ]
    }
   ],
   "source": [
    "print(homeid_47[0].keys())"
   ]
  },
  {
   "cell_type": "code",
   "execution_count": null,
   "metadata": {},
   "outputs": [
    {
     "name": "stdout",
     "output_type": "stream",
     "text": [
      "47\n"
     ]
    }
   ],
   "source": [
    "print(homeid_47[0]['homeid'])"
   ]
  },
  {
   "cell_type": "code",
   "execution_count": null,
   "metadata": {},
   "outputs": [
    {
     "name": "stdout",
     "output_type": "stream",
     "text": [
      "650\n"
     ]
    }
   ],
   "source": [
    "print(homeid_47[0]['roomid'])"
   ]
  },
  {
   "cell_type": "code",
   "execution_count": null,
   "metadata": {},
   "outputs": [
    {
     "name": "stdout",
     "output_type": "stream",
     "text": [
      "kitchen\n"
     ]
    }
   ],
   "source": [
    "print(homeid_47[0]['room_type'])"
   ]
  },
  {
   "cell_type": "code",
   "execution_count": null,
   "metadata": {},
   "outputs": [
    {
     "name": "stdout",
     "output_type": "stream",
     "text": [
      "tempprobe\n"
     ]
    }
   ],
   "source": [
    "print(homeid_47[0]['category'])"
   ]
  },
  {
   "cell_type": "code",
   "execution_count": null,
   "metadata": {},
   "outputs": [
    {
     "name": "stdout",
     "output_type": "stream",
     "text": [
      "hot-water-hot-pipe\n"
     ]
    }
   ],
   "source": [
    "print(homeid_47[0]['subtype'])"
   ]
  },
  {
   "cell_type": "code",
   "execution_count": null,
   "metadata": {},
   "outputs": [
    {
     "name": "stdout",
     "output_type": "stream",
     "text": [
      "3249\n"
     ]
    }
   ],
   "source": [
    "print(homeid_82[0]['sensorid'])"
   ]
  },
  {
   "cell_type": "code",
   "execution_count": null,
   "metadata": {},
   "outputs": [
    {
     "name": "stdout",
     "output_type": "stream",
     "text": [
      "                       time  hot-water-cold-pipe\n",
      "0       2016-10-25 14:39:38                  165\n",
      "1       2016-10-25 14:39:50                  165\n",
      "2       2016-10-25 14:40:02                  165\n",
      "3       2017-01-30 13:46:16                  210\n",
      "4       2017-01-30 13:46:28                  210\n",
      "...                     ...                  ...\n",
      "3000492 2018-06-30 23:58:46                  215\n",
      "3000493 2018-06-30 23:58:58                  215\n",
      "3000494 2018-06-30 23:59:10                  215\n",
      "3000495 2018-06-30 23:59:22                  215\n",
      "3000496 2018-06-30 23:59:46                  215\n",
      "\n",
      "[3000497 rows x 2 columns]\n"
     ]
    }
   ],
   "source": [
    "print(homeid_82[0]['readings'].reset_index())"
   ]
  },
  {
   "cell_type": "code",
   "execution_count": null,
   "metadata": {},
   "outputs": [
    {
     "name": "stdout",
     "output_type": "stream",
     "text": [
      "<class 'pandas.core.series.Series'>\n"
     ]
    }
   ],
   "source": [
    "print(type(homeid_82[0]['readings']))"
   ]
  },
  {
   "cell_type": "markdown",
   "metadata": {},
   "source": [
    "### Which room types are available?"
   ]
  },
  {
   "cell_type": "code",
   "execution_count": null,
   "metadata": {},
   "outputs": [
    {
     "data": {
      "text/html": [
       "<div>\n",
       "<style scoped>\n",
       "    .dataframe tbody tr th:only-of-type {\n",
       "        vertical-align: middle;\n",
       "    }\n",
       "\n",
       "    .dataframe tbody tr th {\n",
       "        vertical-align: top;\n",
       "    }\n",
       "\n",
       "    .dataframe thead th {\n",
       "        text-align: right;\n",
       "    }\n",
       "</style>\n",
       "<table border=\"1\" class=\"dataframe\">\n",
       "  <thead>\n",
       "    <tr style=\"text-align: right;\">\n",
       "      <th></th>\n",
       "      <th>homeid</th>\n",
       "      <th>roomid</th>\n",
       "    </tr>\n",
       "  </thead>\n",
       "  <tbody>\n",
       "    <tr>\n",
       "      <th>0</th>\n",
       "      <td>100</td>\n",
       "      <td>6</td>\n",
       "    </tr>\n",
       "    <tr>\n",
       "      <th>1</th>\n",
       "      <td>101</td>\n",
       "      <td>6</td>\n",
       "    </tr>\n",
       "    <tr>\n",
       "      <th>2</th>\n",
       "      <td>102</td>\n",
       "      <td>6</td>\n",
       "    </tr>\n",
       "    <tr>\n",
       "      <th>3</th>\n",
       "      <td>105</td>\n",
       "      <td>7</td>\n",
       "    </tr>\n",
       "    <tr>\n",
       "      <th>4</th>\n",
       "      <td>106</td>\n",
       "      <td>9</td>\n",
       "    </tr>\n",
       "    <tr>\n",
       "      <th>...</th>\n",
       "      <td>...</td>\n",
       "      <td>...</td>\n",
       "    </tr>\n",
       "    <tr>\n",
       "      <th>250</th>\n",
       "      <td>94</td>\n",
       "      <td>5</td>\n",
       "    </tr>\n",
       "    <tr>\n",
       "      <th>251</th>\n",
       "      <td>96</td>\n",
       "      <td>8</td>\n",
       "    </tr>\n",
       "    <tr>\n",
       "      <th>252</th>\n",
       "      <td>97</td>\n",
       "      <td>6</td>\n",
       "    </tr>\n",
       "    <tr>\n",
       "      <th>253</th>\n",
       "      <td>98</td>\n",
       "      <td>5</td>\n",
       "    </tr>\n",
       "    <tr>\n",
       "      <th>254</th>\n",
       "      <td>99</td>\n",
       "      <td>6</td>\n",
       "    </tr>\n",
       "  </tbody>\n",
       "</table>\n",
       "<p>255 rows × 2 columns</p>\n",
       "</div>"
      ],
      "text/plain": [
       "    homeid  roomid\n",
       "0      100       6\n",
       "1      101       6\n",
       "2      102       6\n",
       "3      105       7\n",
       "4      106       9\n",
       "..     ...     ...\n",
       "250     94       5\n",
       "251     96       8\n",
       "252     97       6\n",
       "253     98       5\n",
       "254     99       6\n",
       "\n",
       "[255 rows x 2 columns]"
      ]
     },
     "execution_count": 27,
     "metadata": {},
     "output_type": "execute_result"
    }
   ],
   "source": [
    "ideal.view().sort_values(by = 'homeid', ascending = True).groupby('homeid').count().roomid.reset_index()"
   ]
  },
  {
   "cell_type": "markdown",
   "metadata": {},
   "source": [
    "### What categories are available?"
   ]
  },
  {
   "cell_type": "code",
   "execution_count": null,
   "metadata": {},
   "outputs": [
    {
     "data": {
      "text/html": [
       "<div>\n",
       "<style scoped>\n",
       "    .dataframe tbody tr th:only-of-type {\n",
       "        vertical-align: middle;\n",
       "    }\n",
       "\n",
       "    .dataframe tbody tr th {\n",
       "        vertical-align: top;\n",
       "    }\n",
       "\n",
       "    .dataframe thead th {\n",
       "        text-align: right;\n",
       "    }\n",
       "</style>\n",
       "<table border=\"1\" class=\"dataframe\">\n",
       "  <thead>\n",
       "    <tr style=\"text-align: right;\">\n",
       "      <th></th>\n",
       "      <th>category</th>\n",
       "      <th>subtype</th>\n",
       "    </tr>\n",
       "  </thead>\n",
       "  <tbody>\n",
       "    <tr>\n",
       "      <th>0</th>\n",
       "      <td>tempprobe</td>\n",
       "      <td>hot-water-cold-pipe</td>\n",
       "    </tr>\n",
       "    <tr>\n",
       "      <th>1</th>\n",
       "      <td>gas-pulse</td>\n",
       "      <td>gas</td>\n",
       "    </tr>\n",
       "    <tr>\n",
       "      <th>2</th>\n",
       "      <td>tempprobe</td>\n",
       "      <td>hot-water-hot-pipe</td>\n",
       "    </tr>\n",
       "    <tr>\n",
       "      <th>3</th>\n",
       "      <td>tempprobe</td>\n",
       "      <td>central-heating-return</td>\n",
       "    </tr>\n",
       "    <tr>\n",
       "      <th>4</th>\n",
       "      <td>electric-subcircuit</td>\n",
       "      <td>cooker</td>\n",
       "    </tr>\n",
       "    <tr>\n",
       "      <th>5</th>\n",
       "      <td>electric-mains</td>\n",
       "      <td>electric-combined</td>\n",
       "    </tr>\n",
       "    <tr>\n",
       "      <th>6</th>\n",
       "      <td>tempprobe</td>\n",
       "      <td>central-heating-flow</td>\n",
       "    </tr>\n",
       "    <tr>\n",
       "      <th>7</th>\n",
       "      <td>electric-subcircuit</td>\n",
       "      <td>mains</td>\n",
       "    </tr>\n",
       "    <tr>\n",
       "      <th>8</th>\n",
       "      <td>electric-subcircuit</td>\n",
       "      <td>shower</td>\n",
       "    </tr>\n",
       "    <tr>\n",
       "      <th>9</th>\n",
       "      <td>electric-subcircuit</td>\n",
       "      <td>oven</td>\n",
       "    </tr>\n",
       "    <tr>\n",
       "      <th>10</th>\n",
       "      <td>electric-subcircuit</td>\n",
       "      <td>unlabelled</td>\n",
       "    </tr>\n",
       "    <tr>\n",
       "      <th>11</th>\n",
       "      <td>electric-subcircuit</td>\n",
       "      <td>heating</td>\n",
       "    </tr>\n",
       "    <tr>\n",
       "      <th>12</th>\n",
       "      <td>electric-subcircuit</td>\n",
       "      <td>utility-room-sockets</td>\n",
       "    </tr>\n",
       "    <tr>\n",
       "      <th>13</th>\n",
       "      <td>electric-subcircuit</td>\n",
       "      <td>induction-hob</td>\n",
       "    </tr>\n",
       "    <tr>\n",
       "      <th>14</th>\n",
       "      <td>electric-subcircuit</td>\n",
       "      <td>water-heater</td>\n",
       "    </tr>\n",
       "    <tr>\n",
       "      <th>15</th>\n",
       "      <td>electric-subcircuit</td>\n",
       "      <td>sockets2</td>\n",
       "    </tr>\n",
       "    <tr>\n",
       "      <th>16</th>\n",
       "      <td>electric-subcircuit</td>\n",
       "      <td>sockets1</td>\n",
       "    </tr>\n",
       "  </tbody>\n",
       "</table>\n",
       "</div>"
      ],
      "text/plain": [
       "               category                 subtype\n",
       "0             tempprobe     hot-water-cold-pipe\n",
       "1             gas-pulse                     gas\n",
       "2             tempprobe      hot-water-hot-pipe\n",
       "3             tempprobe  central-heating-return\n",
       "4   electric-subcircuit                  cooker\n",
       "5        electric-mains       electric-combined\n",
       "6             tempprobe    central-heating-flow\n",
       "7   electric-subcircuit                   mains\n",
       "8   electric-subcircuit                  shower\n",
       "9   electric-subcircuit                    oven\n",
       "10  electric-subcircuit              unlabelled\n",
       "11  electric-subcircuit                 heating\n",
       "12  electric-subcircuit    utility-room-sockets\n",
       "13  electric-subcircuit           induction-hob\n",
       "14  electric-subcircuit            water-heater\n",
       "15  electric-subcircuit                sockets2\n",
       "16  electric-subcircuit                sockets1"
      ]
     },
     "execution_count": 10,
     "metadata": {},
     "output_type": "execute_result"
    }
   ],
   "source": [
    "ideal.categories()"
   ]
  },
  {
   "cell_type": "markdown",
   "metadata": {},
   "source": [
    "### Search for some sensors"
   ]
  },
  {
   "cell_type": "code",
   "execution_count": null,
   "metadata": {},
   "outputs": [
    {
     "data": {
      "text/html": [
       "<div>\n",
       "<style scoped>\n",
       "    .dataframe tbody tr th:only-of-type {\n",
       "        vertical-align: middle;\n",
       "    }\n",
       "\n",
       "    .dataframe tbody tr th {\n",
       "        vertical-align: top;\n",
       "    }\n",
       "\n",
       "    .dataframe thead th {\n",
       "        text-align: right;\n",
       "    }\n",
       "</style>\n",
       "<table border=\"1\" class=\"dataframe\">\n",
       "  <thead>\n",
       "    <tr style=\"text-align: right;\">\n",
       "      <th></th>\n",
       "      <th>homeid</th>\n",
       "      <th>roomid</th>\n",
       "      <th>room_type</th>\n",
       "      <th>category</th>\n",
       "      <th>subtype</th>\n",
       "      <th>sensorid</th>\n",
       "    </tr>\n",
       "  </thead>\n",
       "  <tbody>\n",
       "    <tr>\n",
       "      <th>0</th>\n",
       "      <td>105</td>\n",
       "      <td>1110</td>\n",
       "      <td>kitchen</td>\n",
       "      <td>tempprobe</td>\n",
       "      <td>central-heating-return</td>\n",
       "      <td>5075</td>\n",
       "    </tr>\n",
       "    <tr>\n",
       "      <th>1</th>\n",
       "      <td>105</td>\n",
       "      <td>1110</td>\n",
       "      <td>kitchen</td>\n",
       "      <td>gas-pulse</td>\n",
       "      <td>gas</td>\n",
       "      <td>5084</td>\n",
       "    </tr>\n",
       "    <tr>\n",
       "      <th>2</th>\n",
       "      <td>105</td>\n",
       "      <td>1126</td>\n",
       "      <td>utility</td>\n",
       "      <td>electric-subcircuit</td>\n",
       "      <td>mains</td>\n",
       "      <td>5276</td>\n",
       "    </tr>\n",
       "    <tr>\n",
       "      <th>3</th>\n",
       "      <td>105</td>\n",
       "      <td>1110</td>\n",
       "      <td>kitchen</td>\n",
       "      <td>tempprobe</td>\n",
       "      <td>central-heating-flow</td>\n",
       "      <td>5076</td>\n",
       "    </tr>\n",
       "    <tr>\n",
       "      <th>4</th>\n",
       "      <td>105</td>\n",
       "      <td>1110</td>\n",
       "      <td>kitchen</td>\n",
       "      <td>tempprobe</td>\n",
       "      <td>hot-water-hot-pipe</td>\n",
       "      <td>5083</td>\n",
       "    </tr>\n",
       "    <tr>\n",
       "      <th>5</th>\n",
       "      <td>105</td>\n",
       "      <td>1111</td>\n",
       "      <td>hall</td>\n",
       "      <td>electric-mains</td>\n",
       "      <td>electric-combined</td>\n",
       "      <td>5093c5097</td>\n",
       "    </tr>\n",
       "    <tr>\n",
       "      <th>6</th>\n",
       "      <td>105</td>\n",
       "      <td>1110</td>\n",
       "      <td>kitchen</td>\n",
       "      <td>tempprobe</td>\n",
       "      <td>hot-water-cold-pipe</td>\n",
       "      <td>5082</td>\n",
       "    </tr>\n",
       "  </tbody>\n",
       "</table>\n",
       "</div>"
      ],
      "text/plain": [
       "  homeid roomid room_type             category                 subtype  \\\n",
       "0    105   1110   kitchen            tempprobe  central-heating-return   \n",
       "1    105   1110   kitchen            gas-pulse                     gas   \n",
       "2    105   1126   utility  electric-subcircuit                   mains   \n",
       "3    105   1110   kitchen            tempprobe    central-heating-flow   \n",
       "4    105   1110   kitchen            tempprobe      hot-water-hot-pipe   \n",
       "5    105   1111      hall       electric-mains       electric-combined   \n",
       "6    105   1110   kitchen            tempprobe     hot-water-cold-pipe   \n",
       "\n",
       "    sensorid  \n",
       "0       5075  \n",
       "1       5084  \n",
       "2       5276  \n",
       "3       5076  \n",
       "4       5083  \n",
       "5  5093c5097  \n",
       "6       5082  "
      ]
     },
     "execution_count": 57,
     "metadata": {},
     "output_type": "execute_result"
    }
   ],
   "source": [
    "ideal.view(homeid=105)"
   ]
  },
  {
   "cell_type": "code",
   "execution_count": null,
   "metadata": {},
   "outputs": [
    {
     "data": {
      "text/html": [
       "<div>\n",
       "<style scoped>\n",
       "    .dataframe tbody tr th:only-of-type {\n",
       "        vertical-align: middle;\n",
       "    }\n",
       "\n",
       "    .dataframe tbody tr th {\n",
       "        vertical-align: top;\n",
       "    }\n",
       "\n",
       "    .dataframe thead th {\n",
       "        text-align: right;\n",
       "    }\n",
       "</style>\n",
       "<table border=\"1\" class=\"dataframe\">\n",
       "  <thead>\n",
       "    <tr style=\"text-align: right;\">\n",
       "      <th></th>\n",
       "      <th>homeid</th>\n",
       "      <th>roomid</th>\n",
       "      <th>room_type</th>\n",
       "      <th>category</th>\n",
       "      <th>subtype</th>\n",
       "      <th>sensorid</th>\n",
       "    </tr>\n",
       "  </thead>\n",
       "  <tbody>\n",
       "    <tr>\n",
       "      <th>0</th>\n",
       "      <td>105</td>\n",
       "      <td>1110</td>\n",
       "      <td>kitchen</td>\n",
       "      <td>tempprobe</td>\n",
       "      <td>hot-water-hot-pipe</td>\n",
       "      <td>5083</td>\n",
       "    </tr>\n",
       "  </tbody>\n",
       "</table>\n",
       "</div>"
      ],
      "text/plain": [
       "  homeid roomid room_type   category             subtype sensorid\n",
       "0    105   1110   kitchen  tempprobe  hot-water-hot-pipe     5083"
      ]
     },
     "execution_count": 11,
     "metadata": {},
     "output_type": "execute_result"
    }
   ],
   "source": [
    "ideal.view(homeid=105, subtype='hot-water-hot-pipe')"
   ]
  },
  {
   "cell_type": "code",
   "execution_count": null,
   "metadata": {},
   "outputs": [
    {
     "data": {
      "text/html": [
       "<div>\n",
       "<style scoped>\n",
       "    .dataframe tbody tr th:only-of-type {\n",
       "        vertical-align: middle;\n",
       "    }\n",
       "\n",
       "    .dataframe tbody tr th {\n",
       "        vertical-align: top;\n",
       "    }\n",
       "\n",
       "    .dataframe thead th {\n",
       "        text-align: right;\n",
       "    }\n",
       "</style>\n",
       "<table border=\"1\" class=\"dataframe\">\n",
       "  <thead>\n",
       "    <tr style=\"text-align: right;\">\n",
       "      <th></th>\n",
       "      <th>homeid</th>\n",
       "      <th>roomid</th>\n",
       "      <th>room_type</th>\n",
       "      <th>category</th>\n",
       "      <th>subtype</th>\n",
       "      <th>sensorid</th>\n",
       "    </tr>\n",
       "  </thead>\n",
       "  <tbody>\n",
       "    <tr>\n",
       "      <th>0</th>\n",
       "      <td>105</td>\n",
       "      <td>1110</td>\n",
       "      <td>kitchen</td>\n",
       "      <td>tempprobe</td>\n",
       "      <td>hot-water-cold-pipe</td>\n",
       "      <td>5082</td>\n",
       "    </tr>\n",
       "  </tbody>\n",
       "</table>\n",
       "</div>"
      ],
      "text/plain": [
       "  homeid roomid room_type   category              subtype sensorid\n",
       "0    105   1110   kitchen  tempprobe  hot-water-cold-pipe     5082"
      ]
     },
     "execution_count": 68,
     "metadata": {},
     "output_type": "execute_result"
    }
   ],
   "source": [
    "ideal.view(homeid=105, subtype='hot-water-cold-pipe')"
   ]
  },
  {
   "cell_type": "code",
   "execution_count": null,
   "metadata": {},
   "outputs": [
    {
     "data": {
      "text/plain": [
       "2"
      ]
     },
     "execution_count": 70,
     "metadata": {},
     "output_type": "execute_result"
    }
   ],
   "source": [
    "data = ideal.get(sensorid=[5083, 5082])\n",
    "\n",
    "len(data)"
   ]
  },
  {
   "cell_type": "code",
   "execution_count": null,
   "metadata": {},
   "outputs": [
    {
     "data": {
      "text/plain": [
       "dict_keys(['homeid', 'roomid', 'room_type', 'category', 'subtype', 'sensorid', 'readings'])"
      ]
     },
     "execution_count": 71,
     "metadata": {},
     "output_type": "execute_result"
    }
   ],
   "source": [
    "# Each item in data is a dictionary\n",
    "data[0].keys()"
   ]
  },
  {
   "cell_type": "markdown",
   "metadata": {},
   "source": [
    "### Resample the temperature readings and combine them in one DataFrame"
   ]
  },
  {
   "cell_type": "code",
   "execution_count": null,
   "metadata": {},
   "outputs": [
    {
     "name": "stdout",
     "output_type": "stream",
     "text": [
      "hot-water-hot-pipe\n",
      "hot-water-cold-pipe\n"
     ]
    }
   ],
   "source": [
    "print(data[0]['subtype'])\n",
    "print(data[1]['subtype'])"
   ]
  },
  {
   "cell_type": "code",
   "execution_count": null,
   "metadata": {},
   "outputs": [],
   "source": [
    "assert data[0]['subtype'] == 'hot-water-hot-pipe'\n",
    "\n",
    "ts_hot_water = data[1]['readings']\n",
    "ts_hot_water_cold_pipe = data[0]['readings']"
   ]
  },
  {
   "cell_type": "code",
   "execution_count": null,
   "metadata": {},
   "outputs": [],
   "source": [
    "ts_hot_water = ts_hot_water.resample('5min').mean()\n",
    "ts_hot_water_cold_pipe = ts_hot_water_cold_pipe.resample('5min').mean()"
   ]
  },
  {
   "cell_type": "code",
   "execution_count": null,
   "metadata": {},
   "outputs": [
    {
     "data": {
      "text/html": [
       "<div>\n",
       "<style scoped>\n",
       "    .dataframe tbody tr th:only-of-type {\n",
       "        vertical-align: middle;\n",
       "    }\n",
       "\n",
       "    .dataframe tbody tr th {\n",
       "        vertical-align: top;\n",
       "    }\n",
       "\n",
       "    .dataframe thead th {\n",
       "        text-align: right;\n",
       "    }\n",
       "</style>\n",
       "<table border=\"1\" class=\"dataframe\">\n",
       "  <thead>\n",
       "    <tr style=\"text-align: right;\">\n",
       "      <th></th>\n",
       "      <th>hot-water-cold-pipe</th>\n",
       "      <th>hot-water-hot-pipe</th>\n",
       "    </tr>\n",
       "    <tr>\n",
       "      <th>time</th>\n",
       "      <th></th>\n",
       "      <th></th>\n",
       "    </tr>\n",
       "  </thead>\n",
       "  <tbody>\n",
       "    <tr>\n",
       "      <th>2017-04-25 13:10:00</th>\n",
       "      <td>23.000000</td>\n",
       "      <td>28.777778</td>\n",
       "    </tr>\n",
       "    <tr>\n",
       "      <th>2017-04-25 13:15:00</th>\n",
       "      <td>22.695000</td>\n",
       "      <td>28.184211</td>\n",
       "    </tr>\n",
       "    <tr>\n",
       "      <th>2017-04-25 13:20:00</th>\n",
       "      <td>22.370833</td>\n",
       "      <td>27.645833</td>\n",
       "    </tr>\n",
       "    <tr>\n",
       "      <th>2017-04-25 13:25:00</th>\n",
       "      <td>19.620833</td>\n",
       "      <td>33.100000</td>\n",
       "    </tr>\n",
       "    <tr>\n",
       "      <th>2017-04-25 13:30:00</th>\n",
       "      <td>13.108333</td>\n",
       "      <td>47.825000</td>\n",
       "    </tr>\n",
       "  </tbody>\n",
       "</table>\n",
       "</div>"
      ],
      "text/plain": [
       "                     hot-water-cold-pipe  hot-water-hot-pipe\n",
       "time                                                        \n",
       "2017-04-25 13:10:00            23.000000           28.777778\n",
       "2017-04-25 13:15:00            22.695000           28.184211\n",
       "2017-04-25 13:20:00            22.370833           27.645833\n",
       "2017-04-25 13:25:00            19.620833           33.100000\n",
       "2017-04-25 13:30:00            13.108333           47.825000"
      ]
     },
     "execution_count": 75,
     "metadata": {},
     "output_type": "execute_result"
    }
   ],
   "source": [
    "ts_combined = pd.concat([ts_hot_water, ts_hot_water_cold_pipe], axis=1)\n",
    "\n",
    "ts_combined /= 10\n",
    "\n",
    "ts_combined.head()"
   ]
  },
  {
   "cell_type": "markdown",
   "metadata": {},
   "source": [
    "### Have a peek into how that looks"
   ]
  },
  {
   "cell_type": "code",
   "execution_count": null,
   "metadata": {},
   "outputs": [
    {
     "data": {
      "image/png": "[encoded data removed]",
      "text/plain": [
       "<Figure size 1200x550 with 1 Axes>"
      ]
     },
     "metadata": {},
     "output_type": "display_data"
    }
   ],
   "source": [
    "fig, ax = plt.subplots(figsize=(12,5.5))\n",
    "\n",
    "idx = (ts_combined.index >= '2017-05-19') & (ts_combined.index < '2017-05-20')\n",
    "\n",
    "ts_combined[idx].plot(ax=ax);"
   ]
  },
  {
   "cell_type": "markdown",
   "metadata": {},
   "source": [
    "### lets compare two houses electric-mains and plot it"
   ]
  },
  {
   "cell_type": "code",
   "execution_count": null,
   "metadata": {},
   "outputs": [
    {
     "data": {
      "text/html": [
       "<div>\n",
       "<style scoped>\n",
       "    .dataframe tbody tr th:only-of-type {\n",
       "        vertical-align: middle;\n",
       "    }\n",
       "\n",
       "    .dataframe tbody tr th {\n",
       "        vertical-align: top;\n",
       "    }\n",
       "\n",
       "    .dataframe thead th {\n",
       "        text-align: right;\n",
       "    }\n",
       "</style>\n",
       "<table border=\"1\" class=\"dataframe\">\n",
       "  <thead>\n",
       "    <tr style=\"text-align: right;\">\n",
       "      <th></th>\n",
       "      <th>homeid</th>\n",
       "      <th>roomid</th>\n",
       "      <th>room_type</th>\n",
       "      <th>category</th>\n",
       "      <th>subtype</th>\n",
       "      <th>sensorid</th>\n",
       "    </tr>\n",
       "  </thead>\n",
       "  <tbody>\n",
       "    <tr>\n",
       "      <th>0</th>\n",
       "      <td>105</td>\n",
       "      <td>1111</td>\n",
       "      <td>hall</td>\n",
       "      <td>electric-mains</td>\n",
       "      <td>electric-combined</td>\n",
       "      <td>5093c5097</td>\n",
       "    </tr>\n",
       "  </tbody>\n",
       "</table>\n",
       "</div>"
      ],
      "text/plain": [
       "  homeid roomid room_type        category            subtype   sensorid\n",
       "0    105   1111      hall  electric-mains  electric-combined  5093c5097"
      ]
     },
     "execution_count": 78,
     "metadata": {},
     "output_type": "execute_result"
    }
   ],
   "source": [
    "ideal.view(homeid=105, category='electric-mains')"
   ]
  },
  {
   "cell_type": "code",
   "execution_count": null,
   "metadata": {},
   "outputs": [
    {
     "data": {
      "text/html": [
       "<div>\n",
       "<style scoped>\n",
       "    .dataframe tbody tr th:only-of-type {\n",
       "        vertical-align: middle;\n",
       "    }\n",
       "\n",
       "    .dataframe tbody tr th {\n",
       "        vertical-align: top;\n",
       "    }\n",
       "\n",
       "    .dataframe thead th {\n",
       "        text-align: right;\n",
       "    }\n",
       "</style>\n",
       "<table border=\"1\" class=\"dataframe\">\n",
       "  <thead>\n",
       "    <tr style=\"text-align: right;\">\n",
       "      <th></th>\n",
       "      <th>homeid</th>\n",
       "      <th>roomid</th>\n",
       "      <th>room_type</th>\n",
       "      <th>category</th>\n",
       "      <th>subtype</th>\n",
       "      <th>sensorid</th>\n",
       "    </tr>\n",
       "  </thead>\n",
       "  <tbody>\n",
       "    <tr>\n",
       "      <th>0</th>\n",
       "      <td>106</td>\n",
       "      <td>1086</td>\n",
       "      <td>hall</td>\n",
       "      <td>electric-mains</td>\n",
       "      <td>electric-combined</td>\n",
       "      <td>4891c4895</td>\n",
       "    </tr>\n",
       "  </tbody>\n",
       "</table>\n",
       "</div>"
      ],
      "text/plain": [
       "  homeid roomid room_type        category            subtype   sensorid\n",
       "0    106   1086      hall  electric-mains  electric-combined  4891c4895"
      ]
     },
     "execution_count": 79,
     "metadata": {},
     "output_type": "execute_result"
    }
   ],
   "source": [
    "ideal.view(homeid=106, category='electric-mains')"
   ]
  },
  {
   "cell_type": "code",
   "execution_count": null,
   "metadata": {},
   "outputs": [
    {
     "name": "stdout",
     "output_type": "stream",
     "text": [
      "2\n"
     ]
    }
   ],
   "source": [
    "data = ideal.get(sensorid=['5093c5097', '4891c4895'])\n",
    "print(len(data))\n",
    "\n"
   ]
  },
  {
   "cell_type": "code",
   "execution_count": null,
   "metadata": {},
   "outputs": [],
   "source": [
    "mains_105 = data[0]['readings']\n",
    "mains_106 = data[1]['readings']"
   ]
  },
  {
   "cell_type": "code",
   "execution_count": null,
   "metadata": {},
   "outputs": [],
   "source": [
    "mains_105 = mains_105.resample('10min').mean()\n",
    "mains_106 = mains_106.resample('10min').mean()"
   ]
  },
  {
   "cell_type": "code",
   "execution_count": null,
   "metadata": {},
   "outputs": [],
   "source": [
    "mains_combined = pd.concat([mains_105, mains_106], axis=1)\n"
   ]
  },
  {
   "cell_type": "code",
   "execution_count": null,
   "metadata": {},
   "outputs": [
    {
     "data": {
      "image/png": "[encoded data removed]",
      "text/plain": [
       "<Figure size 1200x550 with 1 Axes>"
      ]
     },
     "metadata": {},
     "output_type": "display_data"
    }
   ],
   "source": [
    "fig, ax = plt.subplots(figsize=(12,5.5))\n",
    "\n",
    "idx = (mains_combined.index >= '2017-05-19') & (mains_combined.index < '2017-05-20')\n",
    "\n",
    "mains_combined[idx].plot(ax=ax);"
   ]
  },
  {
   "cell_type": "markdown",
   "metadata": {},
   "source": [
    "### Lets have a look at 1 house and its electric-subcircuits"
   ]
  },
  {
   "cell_type": "code",
   "execution_count": null,
   "metadata": {},
   "outputs": [
    {
     "data": {
      "text/html": [
       "<div>\n",
       "<style scoped>\n",
       "    .dataframe tbody tr th:only-of-type {\n",
       "        vertical-align: middle;\n",
       "    }\n",
       "\n",
       "    .dataframe tbody tr th {\n",
       "        vertical-align: top;\n",
       "    }\n",
       "\n",
       "    .dataframe thead th {\n",
       "        text-align: right;\n",
       "    }\n",
       "</style>\n",
       "<table border=\"1\" class=\"dataframe\">\n",
       "  <thead>\n",
       "    <tr style=\"text-align: right;\">\n",
       "      <th></th>\n",
       "      <th>homeid</th>\n",
       "      <th>roomid</th>\n",
       "      <th>room_type</th>\n",
       "      <th>category</th>\n",
       "      <th>subtype</th>\n",
       "      <th>sensorid</th>\n",
       "    </tr>\n",
       "  </thead>\n",
       "  <tbody>\n",
       "    <tr>\n",
       "      <th>0</th>\n",
       "      <td>106</td>\n",
       "      <td>1130</td>\n",
       "      <td>utility</td>\n",
       "      <td>electric-subcircuit</td>\n",
       "      <td>shower</td>\n",
       "      <td>5312</td>\n",
       "    </tr>\n",
       "    <tr>\n",
       "      <th>1</th>\n",
       "      <td>106</td>\n",
       "      <td>1130</td>\n",
       "      <td>utility</td>\n",
       "      <td>electric-subcircuit</td>\n",
       "      <td>mains</td>\n",
       "      <td>5313</td>\n",
       "    </tr>\n",
       "    <tr>\n",
       "      <th>2</th>\n",
       "      <td>106</td>\n",
       "      <td>1130</td>\n",
       "      <td>utility</td>\n",
       "      <td>electric-subcircuit</td>\n",
       "      <td>cooker</td>\n",
       "      <td>13191</td>\n",
       "    </tr>\n",
       "  </tbody>\n",
       "</table>\n",
       "</div>"
      ],
      "text/plain": [
       "  homeid roomid room_type             category subtype sensorid\n",
       "0    106   1130   utility  electric-subcircuit  shower     5312\n",
       "1    106   1130   utility  electric-subcircuit   mains     5313\n",
       "2    106   1130   utility  electric-subcircuit  cooker    13191"
      ]
     },
     "execution_count": 117,
     "metadata": {},
     "output_type": "execute_result"
    }
   ],
   "source": [
    "ideal.view(category='electric-subcircuit', homeid = 106)"
   ]
  },
  {
   "cell_type": "code",
   "execution_count": null,
   "metadata": {},
   "outputs": [
    {
     "data": {
      "text/html": [
       "<div>\n",
       "<style scoped>\n",
       "    .dataframe tbody tr th:only-of-type {\n",
       "        vertical-align: middle;\n",
       "    }\n",
       "\n",
       "    .dataframe tbody tr th {\n",
       "        vertical-align: top;\n",
       "    }\n",
       "\n",
       "    .dataframe thead th {\n",
       "        text-align: right;\n",
       "    }\n",
       "</style>\n",
       "<table border=\"1\" class=\"dataframe\">\n",
       "  <thead>\n",
       "    <tr style=\"text-align: right;\">\n",
       "      <th></th>\n",
       "      <th>subtype</th>\n",
       "      <th>sensorid</th>\n",
       "    </tr>\n",
       "  </thead>\n",
       "  <tbody>\n",
       "    <tr>\n",
       "      <th>0</th>\n",
       "      <td>shower</td>\n",
       "      <td>5312</td>\n",
       "    </tr>\n",
       "    <tr>\n",
       "      <th>1</th>\n",
       "      <td>mains</td>\n",
       "      <td>5313</td>\n",
       "    </tr>\n",
       "    <tr>\n",
       "      <th>2</th>\n",
       "      <td>cooker</td>\n",
       "      <td>13191</td>\n",
       "    </tr>\n",
       "  </tbody>\n",
       "</table>\n",
       "</div>"
      ],
      "text/plain": [
       "  subtype sensorid\n",
       "0  shower     5312\n",
       "1   mains     5313\n",
       "2  cooker    13191"
      ]
     },
     "execution_count": 120,
     "metadata": {},
     "output_type": "execute_result"
    }
   ],
   "source": [
    "electric_subcircuits_106 = ideal.view(category='electric-subcircuit', homeid = 106)[['subtype', 'sensorid']]\n",
    "electric_subcircuits_106\n"
   ]
  },
  {
   "cell_type": "code",
   "execution_count": null,
   "metadata": {},
   "outputs": [],
   "source": [
    "data = ideal.get(sensorid= electric_subcircuits_106.sensorid.tolist())\n"
   ]
  },
  {
   "cell_type": "code",
   "execution_count": null,
   "metadata": {},
   "outputs": [
    {
     "name": "stdout",
     "output_type": "stream",
     "text": [
      "3\n"
     ]
    }
   ],
   "source": [
    "print(len(data))"
   ]
  },
  {
   "cell_type": "code",
   "execution_count": null,
   "metadata": {},
   "outputs": [],
   "source": [
    "shower_106 = data[0]['readings'].resample('30min').mean()\n",
    "mains_106 = data[1]['readings'].resample('30min').mean()\n",
    "cooker_106 = data[2]['readings'].resample('30min').mean()"
   ]
  },
  {
   "cell_type": "code",
   "execution_count": null,
   "metadata": {},
   "outputs": [],
   "source": [
    "combined_106 = pd.concat([shower_106, mains_106, cooker_106], axis=1)"
   ]
  },
  {
   "cell_type": "code",
   "execution_count": null,
   "metadata": {},
   "outputs": [],
   "source": []
  },
  {
   "cell_type": "code",
   "execution_count": null,
   "metadata": {},
   "outputs": [
    {
     "data": {
      "image/png": "[encoded data removed]",
      "text/plain": [
       "<Figure size 1200x550 with 1 Axes>"
      ]
     },
     "metadata": {},
     "output_type": "display_data"
    }
   ],
   "source": [
    "fig, ax = plt.subplots(figsize=(12,5.5))\n",
    "\n",
    "idx = (combined_106.index >= '2017-06-01') & (combined_106.index < '2017-06-30')\n",
    "fig.suptitle('Electricity consumption for home 106: June', fontsize=16)\n",
    "combined_106[idx].plot(ax=ax);"
   ]
  }
 ],
 "metadata": {
  "kernelspec": {
   "display_name": "Python 3",
   "language": "python",
   "name": "python3"
  },
  "language_info": {
   "codemirror_mode": {
    "name": "ipython",
    "version": 3
   },
   "file_extension": ".py",
   "mimetype": "text/x-python",
   "name": "python",
   "nbconvert_exporter": "python",
   "pygments_lexer": "ipython3",
   "version": "3.11.8"
  }
 },
 "nbformat": 4,
 "nbformat_minor": 2
}
