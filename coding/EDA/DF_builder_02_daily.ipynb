{
 "cells": [
  {
   "cell_type": "code",
   "execution_count": 1,
   "metadata": {},
   "outputs": [],
   "source": [
    "import sys\n",
    "sys.path.append('/Users/barry/CodeAcademy/Ideal_dataset/coding/API/')"
   ]
  },
  {
   "cell_type": "code",
   "execution_count": 2,
   "metadata": {},
   "outputs": [],
   "source": [
    "import os"
   ]
  },
  {
   "cell_type": "code",
   "execution_count": 3,
   "metadata": {},
   "outputs": [],
   "source": [
    "import numpy as np\n",
    "import pandas as pd\n",
    "\n",
    "from IdealDataInterface import IdealDataInterface"
   ]
  },
  {
   "cell_type": "code",
   "execution_count": 4,
   "metadata": {},
   "outputs": [],
   "source": [
    "from IdealMetadataInterface import IdealMetadataInterface"
   ]
  },
  {
   "cell_type": "code",
   "execution_count": 44,
   "metadata": {},
   "outputs": [],
   "source": [
    "import seaborn as sns\n",
    "import matplotlib.pyplot as plt\n",
    "import matplotlib.ticker as ticker\n",
    "\n"
   ]
  },
  {
   "cell_type": "code",
   "execution_count": 6,
   "metadata": {},
   "outputs": [],
   "source": [
    "import plotly.graph_objects as go\n"
   ]
  },
  {
   "cell_type": "code",
   "execution_count": 7,
   "metadata": {},
   "outputs": [],
   "source": [
    "import datetime"
   ]
  },
  {
   "cell_type": "code",
   "execution_count": 20,
   "metadata": {},
   "outputs": [],
   "source": [
    "from govuk_bank_holidays.bank_holidays import BankHolidays\n"
   ]
  },
  {
   "cell_type": "code",
   "execution_count": 8,
   "metadata": {},
   "outputs": [],
   "source": [
    "pd.set_option('display.max_columns', None)"
   ]
  },
  {
   "cell_type": "code",
   "execution_count": 36,
   "metadata": {},
   "outputs": [],
   "source": [
    "def df_appliance_daily(homeid):\n",
    "    folder_path_appliances = '/Users/barry/CodeAcademy/Ideal_dataset/room_and_appliance_sensors/sensordata'\n",
    "    ideal_appliances = IdealDataInterface(folder_path_appliances)\n",
    "    view_df = ideal_appliances.view(homeid = homeid) #will allow us to get the sensorids\n",
    "    df = pd.DataFrame() #creat an empty dataframe to store the electric info\n",
    "    sensor_list = list(view_df[view_df.category == 'electric-appliance'].sensorid) #appliance sensor id's for the provided house\n",
    "    if len(sensor_list) > 0: #DF only gets populated if there are monitored appliances\n",
    "        electrics_appliance_info = ideal_appliances.get(sensorid = sensor_list) #appliance info as a list with extra infor\n",
    "        for appliance in electrics_appliance_info: #cycle through the list importing it to the dataframe\n",
    "            df[appliance['subtype']] = appliance['readings']\n",
    "    else:\n",
    "        print('no monitored appliances')\n",
    "    try:\n",
    "        df = df.resample('1D').sum().round(2) #resample the data to 30 minute intervals as that is the grid's reconcilliation period (and is easier) and also rounding\n",
    "        df = df.fillna(0) # get rid of the NaN values\n",
    "    except:\n",
    "        pass\n",
    "    return df\n",
    "\n"
   ]
  },
  {
   "cell_type": "code",
   "execution_count": 37,
   "metadata": {},
   "outputs": [
    {
     "name": "stdout",
     "output_type": "stream",
     "text": [
      "Found entries for 4824 sensor readings.\n"
     ]
    },
    {
     "data": {
      "text/html": [
       "<div>\n",
       "<style scoped>\n",
       "    .dataframe tbody tr th:only-of-type {\n",
       "        vertical-align: middle;\n",
       "    }\n",
       "\n",
       "    .dataframe tbody tr th {\n",
       "        vertical-align: top;\n",
       "    }\n",
       "\n",
       "    .dataframe thead th {\n",
       "        text-align: right;\n",
       "    }\n",
       "</style>\n",
       "<table border=\"1\" class=\"dataframe\">\n",
       "  <thead>\n",
       "    <tr style=\"text-align: right;\">\n",
       "      <th></th>\n",
       "      <th>kettle</th>\n",
       "      <th>microwave</th>\n",
       "      <th>fridgefreezer</th>\n",
       "      <th>washingmachine</th>\n",
       "    </tr>\n",
       "    <tr>\n",
       "      <th>time</th>\n",
       "      <th></th>\n",
       "      <th></th>\n",
       "      <th></th>\n",
       "      <th></th>\n",
       "    </tr>\n",
       "  </thead>\n",
       "  <tbody>\n",
       "    <tr>\n",
       "      <th>2017-05-17</th>\n",
       "      <td>246</td>\n",
       "      <td>0.0</td>\n",
       "      <td>0.0</td>\n",
       "      <td>0.0</td>\n",
       "    </tr>\n",
       "    <tr>\n",
       "      <th>2017-05-18</th>\n",
       "      <td>5917</td>\n",
       "      <td>0.0</td>\n",
       "      <td>0.0</td>\n",
       "      <td>0.0</td>\n",
       "    </tr>\n",
       "    <tr>\n",
       "      <th>2017-05-19</th>\n",
       "      <td>3073</td>\n",
       "      <td>0.0</td>\n",
       "      <td>0.0</td>\n",
       "      <td>0.0</td>\n",
       "    </tr>\n",
       "    <tr>\n",
       "      <th>2017-05-20</th>\n",
       "      <td>14888</td>\n",
       "      <td>0.0</td>\n",
       "      <td>0.0</td>\n",
       "      <td>0.0</td>\n",
       "    </tr>\n",
       "    <tr>\n",
       "      <th>2017-05-21</th>\n",
       "      <td>3009</td>\n",
       "      <td>0.0</td>\n",
       "      <td>0.0</td>\n",
       "      <td>0.0</td>\n",
       "    </tr>\n",
       "    <tr>\n",
       "      <th>...</th>\n",
       "      <td>...</td>\n",
       "      <td>...</td>\n",
       "      <td>...</td>\n",
       "      <td>...</td>\n",
       "    </tr>\n",
       "    <tr>\n",
       "      <th>2018-06-10</th>\n",
       "      <td>2928</td>\n",
       "      <td>0.0</td>\n",
       "      <td>0.0</td>\n",
       "      <td>0.0</td>\n",
       "    </tr>\n",
       "    <tr>\n",
       "      <th>2018-06-11</th>\n",
       "      <td>2969</td>\n",
       "      <td>0.0</td>\n",
       "      <td>0.0</td>\n",
       "      <td>0.0</td>\n",
       "    </tr>\n",
       "    <tr>\n",
       "      <th>2018-06-12</th>\n",
       "      <td>0</td>\n",
       "      <td>0.0</td>\n",
       "      <td>0.0</td>\n",
       "      <td>0.0</td>\n",
       "    </tr>\n",
       "    <tr>\n",
       "      <th>2018-06-13</th>\n",
       "      <td>2995</td>\n",
       "      <td>0.0</td>\n",
       "      <td>0.0</td>\n",
       "      <td>0.0</td>\n",
       "    </tr>\n",
       "    <tr>\n",
       "      <th>2018-06-14</th>\n",
       "      <td>0</td>\n",
       "      <td>0.0</td>\n",
       "      <td>0.0</td>\n",
       "      <td>0.0</td>\n",
       "    </tr>\n",
       "  </tbody>\n",
       "</table>\n",
       "<p>394 rows × 4 columns</p>\n",
       "</div>"
      ],
      "text/plain": [
       "            kettle  microwave  fridgefreezer  washingmachine\n",
       "time                                                        \n",
       "2017-05-17     246        0.0            0.0             0.0\n",
       "2017-05-18    5917        0.0            0.0             0.0\n",
       "2017-05-19    3073        0.0            0.0             0.0\n",
       "2017-05-20   14888        0.0            0.0             0.0\n",
       "2017-05-21    3009        0.0            0.0             0.0\n",
       "...            ...        ...            ...             ...\n",
       "2018-06-10    2928        0.0            0.0             0.0\n",
       "2018-06-11    2969        0.0            0.0             0.0\n",
       "2018-06-12       0        0.0            0.0             0.0\n",
       "2018-06-13    2995        0.0            0.0             0.0\n",
       "2018-06-14       0        0.0            0.0             0.0\n",
       "\n",
       "[394 rows x 4 columns]"
      ]
     },
     "execution_count": 37,
     "metadata": {},
     "output_type": "execute_result"
    }
   ],
   "source": [
    "df_appliance_daily(106)"
   ]
  },
  {
   "cell_type": "code",
   "execution_count": 38,
   "metadata": {},
   "outputs": [],
   "source": [
    "\n",
    "def bankholidays(date):\n",
    "    bankholidays = BankHolidays()\n",
    "    return bankholidays.is_holiday(date)\n",
    "\n"
   ]
  },
  {
   "cell_type": "code",
   "execution_count": 49,
   "metadata": {},
   "outputs": [],
   "source": [
    "def df_dwelling_daily(homeid):\n",
    "    folder_path_dwelling = '/Users/barry/CodeAcademy/Ideal_dataset/sensordata'\n",
    "    ideal_dwelling = IdealDataInterface(folder_path_dwelling)\n",
    "    sensor_list = list(ideal_dwelling.view(homeid = homeid).sensorid)\n",
    "    df_dwelling = pd.DataFrame() #creat an empty dataframe to store the electric info\n",
    "    dwelling_info = ideal_dwelling.get(sensorid = sensor_list)\n",
    "    if len(dwelling_info) > 0:\n",
    "        for sensor in dwelling_info:\n",
    "            df_dwelling[sensor['subtype']] = sensor['readings']\n",
    "    else:\n",
    "        print('no relevant dwelling sensors')\n",
    "    try:\n",
    "        df_dwelling = df_dwelling.resample('1D').sum().round(2) #resample the data to 30 minute intervals as that is the grid's reconcilliation period (and is easier) and also rounding\n",
    "        df_dwelling = df_dwelling.fillna(0) # get rid of the NaN values\n",
    "    except:\n",
    "        pass\n",
    "    df_dwelling['day'] = df_dwelling.index.day_name()\n",
    "    df_dwelling['date'] = df_dwelling.index.date\n",
    "    df_dwelling['is_holiday'] = df_dwelling['date'].apply(bankholidays)\n",
    "    df_dwelling['day'] = df_dwelling.apply(lambda row: 'holiday' if row['is_holiday'] == True else row['day'], axis=1)\n",
    "    return df_dwelling\n",
    "    \n",
    "\n"
   ]
  },
  {
   "cell_type": "code",
   "execution_count": 50,
   "metadata": {},
   "outputs": [
    {
     "name": "stdout",
     "output_type": "stream",
     "text": [
      "Found entries for 1592 sensor readings.\n"
     ]
    }
   ],
   "source": [
    "df_106 = df_dwelling_daily(106)"
   ]
  },
  {
   "cell_type": "code",
   "execution_count": 51,
   "metadata": {},
   "outputs": [
    {
     "data": {
      "text/html": [
       "<div>\n",
       "<style scoped>\n",
       "    .dataframe tbody tr th:only-of-type {\n",
       "        vertical-align: middle;\n",
       "    }\n",
       "\n",
       "    .dataframe tbody tr th {\n",
       "        vertical-align: top;\n",
       "    }\n",
       "\n",
       "    .dataframe thead th {\n",
       "        text-align: right;\n",
       "    }\n",
       "</style>\n",
       "<table border=\"1\" class=\"dataframe\">\n",
       "  <thead>\n",
       "    <tr style=\"text-align: right;\">\n",
       "      <th></th>\n",
       "      <th>hot-water-hot-pipe</th>\n",
       "      <th>hot-water-cold-pipe</th>\n",
       "      <th>gas</th>\n",
       "      <th>shower</th>\n",
       "      <th>mains</th>\n",
       "      <th>cooker</th>\n",
       "      <th>electric-combined</th>\n",
       "      <th>central-heating-flow</th>\n",
       "      <th>central-heating-return</th>\n",
       "      <th>day</th>\n",
       "      <th>date</th>\n",
       "      <th>is_holiday</th>\n",
       "    </tr>\n",
       "    <tr>\n",
       "      <th>time</th>\n",
       "      <th></th>\n",
       "      <th></th>\n",
       "      <th></th>\n",
       "      <th></th>\n",
       "      <th></th>\n",
       "      <th></th>\n",
       "      <th></th>\n",
       "      <th></th>\n",
       "      <th></th>\n",
       "      <th></th>\n",
       "      <th></th>\n",
       "      <th></th>\n",
       "    </tr>\n",
       "  </thead>\n",
       "  <tbody>\n",
       "    <tr>\n",
       "      <th>2018-01-01</th>\n",
       "      <td>749667</td>\n",
       "      <td>723016.0</td>\n",
       "      <td>0.0</td>\n",
       "      <td>8884.0</td>\n",
       "      <td>63993.0</td>\n",
       "      <td>56.0</td>\n",
       "      <td>419029.0</td>\n",
       "      <td>91668.0</td>\n",
       "      <td>90800.0</td>\n",
       "      <td>holiday</td>\n",
       "      <td>2018-01-01</td>\n",
       "      <td>True</td>\n",
       "    </tr>\n",
       "    <tr>\n",
       "      <th>2018-03-30</th>\n",
       "      <td>1423087</td>\n",
       "      <td>1266349.0</td>\n",
       "      <td>447.0</td>\n",
       "      <td>107536.0</td>\n",
       "      <td>295725.0</td>\n",
       "      <td>87.0</td>\n",
       "      <td>1566802.0</td>\n",
       "      <td>146322.0</td>\n",
       "      <td>145070.0</td>\n",
       "      <td>holiday</td>\n",
       "      <td>2018-03-30</td>\n",
       "      <td>True</td>\n",
       "    </tr>\n",
       "    <tr>\n",
       "      <th>2018-05-07</th>\n",
       "      <td>1483604</td>\n",
       "      <td>1345768.0</td>\n",
       "      <td>1006.0</td>\n",
       "      <td>9723.0</td>\n",
       "      <td>183057.0</td>\n",
       "      <td>23.0</td>\n",
       "      <td>1006797.0</td>\n",
       "      <td>92218.0</td>\n",
       "      <td>91635.0</td>\n",
       "      <td>holiday</td>\n",
       "      <td>2018-05-07</td>\n",
       "      <td>True</td>\n",
       "    </tr>\n",
       "    <tr>\n",
       "      <th>2018-05-28</th>\n",
       "      <td>1418365</td>\n",
       "      <td>1216845.0</td>\n",
       "      <td>0.0</td>\n",
       "      <td>166951.0</td>\n",
       "      <td>366913.0</td>\n",
       "      <td>84.0</td>\n",
       "      <td>1472022.0</td>\n",
       "      <td>121364.0</td>\n",
       "      <td>120595.0</td>\n",
       "      <td>holiday</td>\n",
       "      <td>2018-05-28</td>\n",
       "      <td>True</td>\n",
       "    </tr>\n",
       "  </tbody>\n",
       "</table>\n",
       "</div>"
      ],
      "text/plain": [
       "            hot-water-hot-pipe  hot-water-cold-pipe     gas    shower  \\\n",
       "time                                                                    \n",
       "2018-01-01              749667             723016.0     0.0    8884.0   \n",
       "2018-03-30             1423087            1266349.0   447.0  107536.0   \n",
       "2018-05-07             1483604            1345768.0  1006.0    9723.0   \n",
       "2018-05-28             1418365            1216845.0     0.0  166951.0   \n",
       "\n",
       "               mains  cooker  electric-combined  central-heating-flow  \\\n",
       "time                                                                    \n",
       "2018-01-01   63993.0    56.0           419029.0               91668.0   \n",
       "2018-03-30  295725.0    87.0          1566802.0              146322.0   \n",
       "2018-05-07  183057.0    23.0          1006797.0               92218.0   \n",
       "2018-05-28  366913.0    84.0          1472022.0              121364.0   \n",
       "\n",
       "            central-heating-return      day        date  is_holiday  \n",
       "time                                                                 \n",
       "2018-01-01                 90800.0  holiday  2018-01-01        True  \n",
       "2018-03-30                145070.0  holiday  2018-03-30        True  \n",
       "2018-05-07                 91635.0  holiday  2018-05-07        True  \n",
       "2018-05-28                120595.0  holiday  2018-05-28        True  "
      ]
     },
     "execution_count": 51,
     "metadata": {},
     "output_type": "execute_result"
    }
   ],
   "source": [
    "df_106[df_106['day'] == 'holiday']"
   ]
  },
  {
   "cell_type": "code",
   "execution_count": 54,
   "metadata": {},
   "outputs": [],
   "source": [
    "def day_consumption(df, homeid = None):\n",
    "    fig, axs = plt.subplots(figsize = (10, 5))\n",
    "    order = ['Monday', 'Tuesday', 'Wednesday', 'Thursday', 'Friday', 'Saturday', 'Sunday', 'holiday']\n",
    "    sns.boxplot(data = df, x = df.day, y = 'electric-combined', ax=axs, order = order)\n",
    "    plt.title(f'daily consumption for home {homeid}')\n",
    "    axs.get_yaxis().get_major_formatter().set_scientific(False)\n",
    "    \n",
    "\n",
    "    plt.show()"
   ]
  },
  {
   "cell_type": "code",
   "execution_count": 55,
   "metadata": {},
   "outputs": [
    {
     "data": {
      "image/png": "[encoded data removed]",
      "text/plain": [
       "<Figure size 1000x500 with 1 Axes>"
      ]
     },
     "metadata": {},
     "output_type": "display_data"
    }
   ],
   "source": [
    "day_consumption(df_106, 106)"
   ]
  }
 ],
 "metadata": {
  "kernelspec": {
   "display_name": "IdealDataInterface",
   "language": "python",
   "name": "python3"
  },
  "language_info": {
   "codemirror_mode": {
    "name": "ipython",
    "version": 3
   },
   "file_extension": ".py",
   "mimetype": "text/x-python",
   "name": "python",
   "nbconvert_exporter": "python",
   "pygments_lexer": "ipython3",
   "version": "3.11.8"
  }
 },
 "nbformat": 4,
 "nbformat_minor": 2
}
